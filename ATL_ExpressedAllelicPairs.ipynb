{
 "cells": [
  {
   "cell_type": "code",
   "execution_count": 2,
   "id": "92a47dc7-477e-441d-b139-dcde058f110a",
   "metadata": {},
   "outputs": [],
   "source": [
    "library(dplyr)\n",
    "library(rio) #great for exporting, importing\n",
    "library (stringr)\n",
    "library(cowplot)\n",
    "library(tidyr)\n",
    "library(ggpubr)\n",
    "\n",
    "library(readxl)\n",
    "library(patchwork)\n",
    "library(RColorBrewer)\n",
    "library(viridis)\n",
    "library(ggvenn)\n",
    "library(gridExtra)"
   ]
  },
  {
   "cell_type": "code",
   "execution_count": 3,
   "id": "8ce0462e-b40d-41f4-bd5f-016625fecb16",
   "metadata": {},
   "outputs": [
    {
     "data": {
      "text/plain": [
       "R version 4.3.1 (2023-06-16)\n",
       "Platform: x86_64-apple-darwin13.4.0 (64-bit)\n",
       "Running under: macOS Big Sur ... 10.16\n",
       "\n",
       "Matrix products: default\n",
       "BLAS/LAPACK: /Users/Eva/opt/anaconda3/envs/R4b/lib/libopenblasp-r0.3.26.dylib;  LAPACK version 3.12.0\n",
       "\n",
       "locale:\n",
       "[1] en_US.UTF-8/en_US.UTF-8/en_US.UTF-8/C/en_US.UTF-8/en_US.UTF-8\n",
       "\n",
       "time zone: America/New_York\n",
       "tzcode source: system (macOS)\n",
       "\n",
       "attached base packages:\n",
       "[1] grid      stats     graphics  grDevices utils     datasets  methods  \n",
       "[8] base     \n",
       "\n",
       "other attached packages:\n",
       " [1] gridExtra_2.3      ggvenn_0.1.10      viridis_0.6.4      viridisLite_0.4.2 \n",
       " [5] RColorBrewer_1.1-3 patchwork_1.1.2    readxl_1.4.3       ggpubr_0.6.0      \n",
       " [9] ggplot2_3.5.0      tidyr_1.3.1        cowplot_1.1.1      stringr_1.5.1     \n",
       "[13] rio_1.0.1          dplyr_1.1.4       \n",
       "\n",
       "loaded via a namespace (and not attached):\n",
       " [1] utf8_1.2.4       generics_0.1.3   rstatix_0.7.2    stringi_1.8.3   \n",
       " [5] digest_0.6.35    magrittr_2.0.3   evaluate_0.23    pbdZMQ_0.3-11   \n",
       " [9] fastmap_1.1.1    cellranger_1.1.0 jsonlite_1.8.8   backports_1.4.1 \n",
       "[13] purrr_1.0.2      fansi_1.0.6      scales_1.3.0     abind_1.4-5     \n",
       "[17] cli_3.6.2        rlang_1.1.3      crayon_1.5.2     munsell_0.5.0   \n",
       "[21] base64enc_0.1-3  withr_3.0.0      repr_1.1.6       tools_4.3.1     \n",
       "[25] uuid_1.2-0       ggsignif_0.6.4   colorspace_2.1-0 broom_1.0.5     \n",
       "[29] IRdisplay_1.1    vctrs_0.6.5      R6_2.5.1         lifecycle_1.0.4 \n",
       "[33] car_3.1-2        pkgconfig_2.0.3  pillar_1.9.0     gtable_0.3.4    \n",
       "[37] glue_1.7.0       tibble_3.2.1     tidyselect_1.2.0 IRkernel_1.3.2  \n",
       "[41] htmltools_0.5.7  carData_3.0-5    compiler_4.3.1  "
      ]
     },
     "metadata": {},
     "output_type": "display_data"
    }
   ],
   "source": [
    "sessionInfo()"
   ]
  },
  {
   "cell_type": "code",
   "execution_count": 5,
   "id": "6a668ed0-2137-43bf-b8a3-1461a421bb75",
   "metadata": {},
   "outputs": [],
   "source": [
    "# IMPORT EXPRESSED GENE DATA\n",
    "#::::::::::::::\n",
    "ExprGenes<- import(file = '../ATL_diel_norm_tables_rlog/Results/ATL_diel_norm_expressed.csv',\n",
    "                 sep =',', header = TRUE, fill = TRUE )"
   ]
  },
  {
   "cell_type": "code",
   "execution_count": 6,
   "id": "b58849f0-8a30-427a-8886-822940d5105a",
   "metadata": {},
   "outputs": [],
   "source": [
    "\n",
    "#Get syntelog/allelic groups file\n",
    "SYN<- import(file = '~/Dropbox/Potato/RNA-seq_2/RNAseq_analysis/Data/GeneLists/Syntelogs_Ann/syntelogs_atl_only.csv', sep =',', header = TRUE, fill = TRUE )\n"
   ]
  },
  {
   "cell_type": "code",
   "execution_count": 7,
   "id": "33a1e6c3-da92-4a4c-b68d-071ec57e1375",
   "metadata": {},
   "outputs": [
    {
     "data": {
      "text/html": [
       "<table class=\"dataframe\">\n",
       "<caption>A data.frame: 2 × 3</caption>\n",
       "<thead>\n",
       "\t<tr><th></th><th scope=col>Syntelog</th><th scope=col>geneID</th><th scope=col>target_id</th></tr>\n",
       "\t<tr><th></th><th scope=col>&lt;chr&gt;</th><th scope=col>&lt;chr&gt;</th><th scope=col>&lt;chr&gt;</th></tr>\n",
       "</thead>\n",
       "<tbody>\n",
       "\t<tr><th scope=row>1</th><td>Synt_1</td><td>Soltu.DM.01G000020.1      </td><td>Soltu.DM.01G000020      </td></tr>\n",
       "\t<tr><th scope=row>2</th><td>Synt_1</td><td>Soltu.Atl_v3.01_4G000020.2</td><td>Soltu.Atl_v3.01_4G000020</td></tr>\n",
       "</tbody>\n",
       "</table>\n"
      ],
      "text/latex": [
       "A data.frame: 2 × 3\n",
       "\\begin{tabular}{r|lll}\n",
       "  & Syntelog & geneID & target\\_id\\\\\n",
       "  & <chr> & <chr> & <chr>\\\\\n",
       "\\hline\n",
       "\t1 & Synt\\_1 & Soltu.DM.01G000020.1       & Soltu.DM.01G000020      \\\\\n",
       "\t2 & Synt\\_1 & Soltu.Atl\\_v3.01\\_4G000020.2 & Soltu.Atl\\_v3.01\\_4G000020\\\\\n",
       "\\end{tabular}\n"
      ],
      "text/markdown": [
       "\n",
       "A data.frame: 2 × 3\n",
       "\n",
       "| <!--/--> | Syntelog &lt;chr&gt; | geneID &lt;chr&gt; | target_id &lt;chr&gt; |\n",
       "|---|---|---|---|\n",
       "| 1 | Synt_1 | Soltu.DM.01G000020.1       | Soltu.DM.01G000020       |\n",
       "| 2 | Synt_1 | Soltu.Atl_v3.01_4G000020.2 | Soltu.Atl_v3.01_4G000020 |\n",
       "\n"
      ],
      "text/plain": [
       "  Syntelog geneID                     target_id               \n",
       "1 Synt_1   Soltu.DM.01G000020.1       Soltu.DM.01G000020      \n",
       "2 Synt_1   Soltu.Atl_v3.01_4G000020.2 Soltu.Atl_v3.01_4G000020"
      ]
     },
     "metadata": {},
     "output_type": "display_data"
    }
   ],
   "source": [
    "# Add column with target_id, no transcript information. The allelic group data, has some of different gene models. \n",
    "\n",
    "## REMOVE transcript version for versions from .1-.99 \n",
    "\n",
    "SYN$target_id <- SYN$geneID\n",
    "SYN$target_id<-lapply(SYN$target_id,\n",
    "                             function (i){if (str_sub(i,-2,-2) == \".\")\n",
    "                                             { i<- str_sub(i, end = -3)} # i.e. the last character will be -3 position\n",
    "                                          else if ((str_sub(i,-3,-3) == \".\"))\n",
    "                                               { i<- str_sub(i, end = -4)} # i.e. the last character will be -4 position\n",
    "                                        else {i<-i}\n",
    "                                          \n",
    "                                        })\n",
    "\n",
    "\n",
    "SYN$target_id <- as.character(SYN$target_id)\n",
    "SYN[1:2,]"
   ]
  },
  {
   "cell_type": "code",
   "execution_count": 8,
   "id": "95bb3b8b-1d14-45cf-b403-5174c51a6fed",
   "metadata": {},
   "outputs": [
    {
     "data": {
      "text/html": [
       "<table class=\"dataframe\">\n",
       "<caption>A tibble: 2 × 4</caption>\n",
       "<thead>\n",
       "\t<tr><th scope=col>Syntelog</th><th scope=col>ATL_alleles</th><th scope=col>geneID</th><th scope=col>target_id</th></tr>\n",
       "\t<tr><th scope=col>&lt;chr&gt;</th><th scope=col>&lt;int&gt;</th><th scope=col>&lt;chr&gt;</th><th scope=col>&lt;chr&gt;</th></tr>\n",
       "</thead>\n",
       "<tbody>\n",
       "\t<tr><td>Synt_1</td><td>4</td><td>Soltu.Atl_v3.01_4G000020.2</td><td>Soltu.Atl_v3.01_4G000020</td></tr>\n",
       "\t<tr><td>Synt_1</td><td>4</td><td>Soltu.Atl_v3.01_1G000020.2</td><td>Soltu.Atl_v3.01_1G000020</td></tr>\n",
       "</tbody>\n",
       "</table>\n"
      ],
      "text/latex": [
       "A tibble: 2 × 4\n",
       "\\begin{tabular}{llll}\n",
       " Syntelog & ATL\\_alleles & geneID & target\\_id\\\\\n",
       " <chr> & <int> & <chr> & <chr>\\\\\n",
       "\\hline\n",
       "\t Synt\\_1 & 4 & Soltu.Atl\\_v3.01\\_4G000020.2 & Soltu.Atl\\_v3.01\\_4G000020\\\\\n",
       "\t Synt\\_1 & 4 & Soltu.Atl\\_v3.01\\_1G000020.2 & Soltu.Atl\\_v3.01\\_1G000020\\\\\n",
       "\\end{tabular}\n"
      ],
      "text/markdown": [
       "\n",
       "A tibble: 2 × 4\n",
       "\n",
       "| Syntelog &lt;chr&gt; | ATL_alleles &lt;int&gt; | geneID &lt;chr&gt; | target_id &lt;chr&gt; |\n",
       "|---|---|---|---|\n",
       "| Synt_1 | 4 | Soltu.Atl_v3.01_4G000020.2 | Soltu.Atl_v3.01_4G000020 |\n",
       "| Synt_1 | 4 | Soltu.Atl_v3.01_1G000020.2 | Soltu.Atl_v3.01_1G000020 |\n",
       "\n"
      ],
      "text/plain": [
       "  Syntelog ATL_alleles geneID                     target_id               \n",
       "1 Synt_1   4           Soltu.Atl_v3.01_4G000020.2 Soltu.Atl_v3.01_4G000020\n",
       "2 Synt_1   4           Soltu.Atl_v3.01_1G000020.2 Soltu.Atl_v3.01_1G000020"
      ]
     },
     "metadata": {},
     "output_type": "display_data"
    }
   ],
   "source": [
    "SYN_a <- SYN %>% select(Syntelog, geneID) %>% \n",
    "        filter(str_detect(geneID, 'Atl')) %>% \n",
    "        group_by(Syntelog)%>% \n",
    "        summarise(ATL_alleles = n()) %>%\n",
    "                ungroup() %>% \n",
    "        right_join(SYN %>% filter(str_detect(geneID, 'Atl')), by = 'Syntelog')\n",
    "        \n",
    "        \n",
    "SYN_a[1:2,]"
   ]
  },
  {
   "cell_type": "code",
   "execution_count": 9,
   "id": "d0992ac6-5898-46d5-9f5f-5fae0f5901c6",
   "metadata": {},
   "outputs": [
    {
     "data": {
      "text/html": [
       "<table class=\"dataframe\">\n",
       "<caption>A data.frame: 2 × 9</caption>\n",
       "<thead>\n",
       "\t<tr><th></th><th scope=col>geneID</th><th scope=col>target_id</th><th scope=col>Tissue</th><th scope=col>Condition</th><th scope=col>Average</th><th scope=col>SD</th><th scope=col>CV</th><th scope=col>ATL_alleles</th><th scope=col>Syntelog</th></tr>\n",
       "\t<tr><th></th><th scope=col>&lt;chr&gt;</th><th scope=col>&lt;chr&gt;</th><th scope=col>&lt;chr&gt;</th><th scope=col>&lt;chr&gt;</th><th scope=col>&lt;dbl&gt;</th><th scope=col>&lt;dbl&gt;</th><th scope=col>&lt;dbl&gt;</th><th scope=col>&lt;int&gt;</th><th scope=col>&lt;chr&gt;</th></tr>\n",
       "</thead>\n",
       "<tbody>\n",
       "\t<tr><th scope=row>1</th><td>Soltu.Atl_v3.01_0G000010.1</td><td>Soltu.Atl_v3.01_0G000010</td><td>Leaf</td><td>LD</td><td>0.7458996</td><td>0.4044651</td><td>0.8060586</td><td>NA</td><td>NA</td></tr>\n",
       "\t<tr><th scope=row>2</th><td>Soltu.Atl_v3.01_0G000010.1</td><td>Soltu.Atl_v3.01_0G000010</td><td>Leaf</td><td>SD</td><td>1.7492942</td><td>0.9515069</td><td>0.5537575</td><td>NA</td><td>NA</td></tr>\n",
       "</tbody>\n",
       "</table>\n"
      ],
      "text/latex": [
       "A data.frame: 2 × 9\n",
       "\\begin{tabular}{r|lllllllll}\n",
       "  & geneID & target\\_id & Tissue & Condition & Average & SD & CV & ATL\\_alleles & Syntelog\\\\\n",
       "  & <chr> & <chr> & <chr> & <chr> & <dbl> & <dbl> & <dbl> & <int> & <chr>\\\\\n",
       "\\hline\n",
       "\t1 & Soltu.Atl\\_v3.01\\_0G000010.1 & Soltu.Atl\\_v3.01\\_0G000010 & Leaf & LD & 0.7458996 & 0.4044651 & 0.8060586 & NA & NA\\\\\n",
       "\t2 & Soltu.Atl\\_v3.01\\_0G000010.1 & Soltu.Atl\\_v3.01\\_0G000010 & Leaf & SD & 1.7492942 & 0.9515069 & 0.5537575 & NA & NA\\\\\n",
       "\\end{tabular}\n"
      ],
      "text/markdown": [
       "\n",
       "A data.frame: 2 × 9\n",
       "\n",
       "| <!--/--> | geneID &lt;chr&gt; | target_id &lt;chr&gt; | Tissue &lt;chr&gt; | Condition &lt;chr&gt; | Average &lt;dbl&gt; | SD &lt;dbl&gt; | CV &lt;dbl&gt; | ATL_alleles &lt;int&gt; | Syntelog &lt;chr&gt; |\n",
       "|---|---|---|---|---|---|---|---|---|---|\n",
       "| 1 | Soltu.Atl_v3.01_0G000010.1 | Soltu.Atl_v3.01_0G000010 | Leaf | LD | 0.7458996 | 0.4044651 | 0.8060586 | NA | NA |\n",
       "| 2 | Soltu.Atl_v3.01_0G000010.1 | Soltu.Atl_v3.01_0G000010 | Leaf | SD | 1.7492942 | 0.9515069 | 0.5537575 | NA | NA |\n",
       "\n"
      ],
      "text/plain": [
       "  geneID                     target_id                Tissue Condition\n",
       "1 Soltu.Atl_v3.01_0G000010.1 Soltu.Atl_v3.01_0G000010 Leaf   LD       \n",
       "2 Soltu.Atl_v3.01_0G000010.1 Soltu.Atl_v3.01_0G000010 Leaf   SD       \n",
       "  Average   SD        CV        ATL_alleles Syntelog\n",
       "1 0.7458996 0.4044651 0.8060586 NA          NA      \n",
       "2 1.7492942 0.9515069 0.5537575 NA          NA      "
      ]
     },
     "metadata": {},
     "output_type": "display_data"
    }
   ],
   "source": [
    "ExprGenes <- ExprGenes %>% left_join(SYN_a %>% select(target_id, ATL_alleles, Syntelog), by = 'target_id')\n",
    "ExprGenes[1:2,]"
   ]
  },
  {
   "cell_type": "code",
   "execution_count": 10,
   "id": "ac9012f5-873b-4663-a441-421c9a50dad2",
   "metadata": {},
   "outputs": [],
   "source": [
    "SynPairs <- ExprGenes %>% select(Syntelog, geneID) %>% filter(!is.na(Syntelog) )%>%\n",
    "                unique()%>% #remove gene duplicates of the different conditions\n",
    "                group_by( Syntelog) %>% \n",
    "                 mutate(Alleles = n()) %>% \n",
    "                ungroup () %>% group_by(Syntelog,Alleles) %>% #group by syntelog to make calculations within allelic groups\n",
    "                  filter(n() > 1)%>% # select syntelogs with more than 1 gene\n",
    "               do(data.frame(t(combn(.$geneID, 2)))) %>%\n",
    "              rename(Allele1 = X1, Allele2 = X2) %>% unique() %>%\n",
    "            ungroup() "
   ]
  },
  {
   "cell_type": "code",
   "execution_count": 11,
   "id": "739cfd01-6b6a-485b-a1a5-a80740e38b8f",
   "metadata": {},
   "outputs": [
    {
     "data": {
      "text/html": [
       "<table class=\"dataframe\">\n",
       "<caption>A tibble: 6 × 4</caption>\n",
       "<thead>\n",
       "\t<tr><th scope=col>Syntelog</th><th scope=col>Alleles</th><th scope=col>Allele1</th><th scope=col>Allele2</th></tr>\n",
       "\t<tr><th scope=col>&lt;chr&gt;</th><th scope=col>&lt;int&gt;</th><th scope=col>&lt;chr&gt;</th><th scope=col>&lt;chr&gt;</th></tr>\n",
       "</thead>\n",
       "<tbody>\n",
       "\t<tr><td>Synt_1</td><td>4</td><td>Soltu.Atl_v3.01_1G000020.2</td><td>Soltu.Atl_v3.01_2G000020.1</td></tr>\n",
       "\t<tr><td>Synt_1</td><td>4</td><td>Soltu.Atl_v3.01_1G000020.2</td><td>Soltu.Atl_v3.01_3G000040.1</td></tr>\n",
       "\t<tr><td>Synt_1</td><td>4</td><td>Soltu.Atl_v3.01_1G000020.2</td><td>Soltu.Atl_v3.01_4G000020.2</td></tr>\n",
       "\t<tr><td>Synt_1</td><td>4</td><td>Soltu.Atl_v3.01_2G000020.1</td><td>Soltu.Atl_v3.01_3G000040.1</td></tr>\n",
       "\t<tr><td>Synt_1</td><td>4</td><td>Soltu.Atl_v3.01_2G000020.1</td><td>Soltu.Atl_v3.01_4G000020.2</td></tr>\n",
       "\t<tr><td>Synt_1</td><td>4</td><td>Soltu.Atl_v3.01_3G000040.1</td><td>Soltu.Atl_v3.01_4G000020.2</td></tr>\n",
       "</tbody>\n",
       "</table>\n"
      ],
      "text/latex": [
       "A tibble: 6 × 4\n",
       "\\begin{tabular}{llll}\n",
       " Syntelog & Alleles & Allele1 & Allele2\\\\\n",
       " <chr> & <int> & <chr> & <chr>\\\\\n",
       "\\hline\n",
       "\t Synt\\_1 & 4 & Soltu.Atl\\_v3.01\\_1G000020.2 & Soltu.Atl\\_v3.01\\_2G000020.1\\\\\n",
       "\t Synt\\_1 & 4 & Soltu.Atl\\_v3.01\\_1G000020.2 & Soltu.Atl\\_v3.01\\_3G000040.1\\\\\n",
       "\t Synt\\_1 & 4 & Soltu.Atl\\_v3.01\\_1G000020.2 & Soltu.Atl\\_v3.01\\_4G000020.2\\\\\n",
       "\t Synt\\_1 & 4 & Soltu.Atl\\_v3.01\\_2G000020.1 & Soltu.Atl\\_v3.01\\_3G000040.1\\\\\n",
       "\t Synt\\_1 & 4 & Soltu.Atl\\_v3.01\\_2G000020.1 & Soltu.Atl\\_v3.01\\_4G000020.2\\\\\n",
       "\t Synt\\_1 & 4 & Soltu.Atl\\_v3.01\\_3G000040.1 & Soltu.Atl\\_v3.01\\_4G000020.2\\\\\n",
       "\\end{tabular}\n"
      ],
      "text/markdown": [
       "\n",
       "A tibble: 6 × 4\n",
       "\n",
       "| Syntelog &lt;chr&gt; | Alleles &lt;int&gt; | Allele1 &lt;chr&gt; | Allele2 &lt;chr&gt; |\n",
       "|---|---|---|---|\n",
       "| Synt_1 | 4 | Soltu.Atl_v3.01_1G000020.2 | Soltu.Atl_v3.01_2G000020.1 |\n",
       "| Synt_1 | 4 | Soltu.Atl_v3.01_1G000020.2 | Soltu.Atl_v3.01_3G000040.1 |\n",
       "| Synt_1 | 4 | Soltu.Atl_v3.01_1G000020.2 | Soltu.Atl_v3.01_4G000020.2 |\n",
       "| Synt_1 | 4 | Soltu.Atl_v3.01_2G000020.1 | Soltu.Atl_v3.01_3G000040.1 |\n",
       "| Synt_1 | 4 | Soltu.Atl_v3.01_2G000020.1 | Soltu.Atl_v3.01_4G000020.2 |\n",
       "| Synt_1 | 4 | Soltu.Atl_v3.01_3G000040.1 | Soltu.Atl_v3.01_4G000020.2 |\n",
       "\n"
      ],
      "text/plain": [
       "  Syntelog Alleles Allele1                    Allele2                   \n",
       "1 Synt_1   4       Soltu.Atl_v3.01_1G000020.2 Soltu.Atl_v3.01_2G000020.1\n",
       "2 Synt_1   4       Soltu.Atl_v3.01_1G000020.2 Soltu.Atl_v3.01_3G000040.1\n",
       "3 Synt_1   4       Soltu.Atl_v3.01_1G000020.2 Soltu.Atl_v3.01_4G000020.2\n",
       "4 Synt_1   4       Soltu.Atl_v3.01_2G000020.1 Soltu.Atl_v3.01_3G000040.1\n",
       "5 Synt_1   4       Soltu.Atl_v3.01_2G000020.1 Soltu.Atl_v3.01_4G000020.2\n",
       "6 Synt_1   4       Soltu.Atl_v3.01_3G000040.1 Soltu.Atl_v3.01_4G000020.2"
      ]
     },
     "metadata": {},
     "output_type": "display_data"
    }
   ],
   "source": [
    "head(SynPairs)"
   ]
  },
  {
   "cell_type": "code",
   "execution_count": 12,
   "id": "fca4080c-ee29-4b85-95eb-0329463bc36a",
   "metadata": {},
   "outputs": [],
   "source": [
    "export(SynPairs,\n",
    "       file = './Results/ExpressedAllelicPairs.csv')"
   ]
  },
  {
   "cell_type": "code",
   "execution_count": null,
   "id": "69e7a4d1-5574-4660-b77f-8794226a5c84",
   "metadata": {},
   "outputs": [],
   "source": []
  }
 ],
 "metadata": {
  "kernelspec": {
   "display_name": "R4b",
   "language": "R",
   "name": "r4b"
  },
  "language_info": {
   "codemirror_mode": "r",
   "file_extension": ".r",
   "mimetype": "text/x-r-source",
   "name": "R",
   "pygments_lexer": "r",
   "version": "4.3.1"
  }
 },
 "nbformat": 4,
 "nbformat_minor": 5
}
