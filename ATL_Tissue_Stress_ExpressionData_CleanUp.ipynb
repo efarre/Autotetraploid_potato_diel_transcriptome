{
 "cells": [
  {
   "cell_type": "code",
   "execution_count": 3,
   "id": "eb25b142-a68b-40ef-89f6-4a48c3459799",
   "metadata": {},
   "outputs": [],
   "source": [
    "library(dplyr)\n",
    "library(rio) #great for exporting, importing\n",
    "library (stringr)\n",
    "library(cowplot)\n",
    "library(ggplot2)\n",
    "library(tidyr)\n",
    "library(ggpubr)\n",
    "\n",
    "library(patchwork)\n",
    "library(RColorBrewer)\n",
    "library(viridis)"
   ]
  },
  {
   "cell_type": "markdown",
   "id": "3c2f751e-0c8b-4488-ad8f-52f0b15077b2",
   "metadata": {},
   "source": [
    "## NOTE: Atlantic expression atlas data was DEseq normalized separating the Stress & Tissue sets to calculate rlogs.\n",
    "\n",
    "Expression atlas experiments were conducted under 15 h light/9 h dark (light 6 am - 9 pm)."
   ]
  },
  {
   "cell_type": "markdown",
   "id": "c0118411-2dc3-444f-b939-a1ce768bfe84",
   "metadata": {},
   "source": [
    "# Stress dataset\n"
   ]
  },
  {
   "cell_type": "code",
   "execution_count": 4,
   "id": "2ad0bc88-6271-4cd9-8077-b869e2b62c82",
   "metadata": {},
   "outputs": [],
   "source": [
    "Stress<- import('~/Dropbox/Potato/RNA-seq_2/RNAseq_analysis/Data/DEseq/Julia_Data/stresses_with_controls_outfile.csv',\n",
    "                                 sep =',', header = TRUE, fill = TRUE )"
   ]
  },
  {
   "cell_type": "code",
   "execution_count": 5,
   "id": "73510a15-04a3-4b3b-8760-bd9d0b6cee75",
   "metadata": {},
   "outputs": [
    {
     "data": {
      "text/html": [
       "<table class=\"dataframe\">\n",
       "<caption>A data.frame: 2 × 39</caption>\n",
       "<thead>\n",
       "\t<tr><th></th><th scope=col>V1</th><th scope=col>MejaControl_R1_ATL_CR</th><th scope=col>MejaControl_R3_ATL_CT</th><th scope=col>BTHControl_R2_ATL_CV</th><th scope=col>BTHControl_R3_ATL_CW</th><th scope=col>SaltLeaf_R1_ATL_DA</th><th scope=col>ColdLeafControl_R2_ATL_DH</th><th scope=col>DroughtLeaf_R2_ATL_DK</th><th scope=col>DroughtLeaf_R3_ATL_DL</th><th scope=col>Heat_R1_ATL_DP</th><th scope=col>⋯</th><th scope=col>ColdLeafControl_R3_ATL_DI</th><th scope=col>ColdLeaf_R1_ATL_DS</th><th scope=col>ColdLeaf_R2_ATL_DT</th><th scope=col>ColdLeaf_R3_ATL_DU</th><th scope=col>SaltRoot_R1_ATL_DV</th><th scope=col>SaltRoot_R3_ATL_DX</th><th scope=col>DroughtRoot_R1_ATL_DY</th><th scope=col>DroughtRoot_R2_ATL_DZ</th><th scope=col>DroughtRoot_R3_ATL_EA</th><th scope=col>RootControl_R1_ATL_EB</th></tr>\n",
       "\t<tr><th></th><th scope=col>&lt;chr&gt;</th><th scope=col>&lt;dbl&gt;</th><th scope=col>&lt;dbl&gt;</th><th scope=col>&lt;dbl&gt;</th><th scope=col>&lt;dbl&gt;</th><th scope=col>&lt;dbl&gt;</th><th scope=col>&lt;dbl&gt;</th><th scope=col>&lt;dbl&gt;</th><th scope=col>&lt;dbl&gt;</th><th scope=col>&lt;dbl&gt;</th><th scope=col>⋯</th><th scope=col>&lt;dbl&gt;</th><th scope=col>&lt;dbl&gt;</th><th scope=col>&lt;dbl&gt;</th><th scope=col>&lt;dbl&gt;</th><th scope=col>&lt;dbl&gt;</th><th scope=col>&lt;dbl&gt;</th><th scope=col>&lt;dbl&gt;</th><th scope=col>&lt;dbl&gt;</th><th scope=col>&lt;dbl&gt;</th><th scope=col>&lt;dbl&gt;</th></tr>\n",
       "</thead>\n",
       "<tbody>\n",
       "\t<tr><th scope=row>1</th><td>Soltu.Atl_v3.09_0G012740.1</td><td>-0.559407</td><td>-0.6376609</td><td>-0.5373148</td><td>-0.5119229</td><td>-0.3991029</td><td>-0.2997879</td><td>-0.5891199</td><td>-0.4704632</td><td>-0.4683695</td><td>⋯</td><td>-0.4641516</td><td>-0.6092329</td><td>-0.6068864</td><td>-0.6379836</td><td> 5.425528</td><td> 4.852719</td><td> 3.641948</td><td> 4.943948</td><td> 4.548304</td><td> 4.591865</td></tr>\n",
       "\t<tr><th scope=row>2</th><td>Soltu.Atl_v3.10_2G013020.1</td><td>-2.189428</td><td>-2.1952106</td><td>-2.1877928</td><td>-2.1859099</td><td>-2.1786193</td><td>-2.1729549</td><td>-2.1916250</td><td>-2.1828254</td><td>-2.1826692</td><td>⋯</td><td>-2.1823545</td><td>-2.1931109</td><td>-2.1929376</td><td>-2.1952344</td><td>-2.201074</td><td>-2.203791</td><td>-2.201255</td><td>-2.066951</td><td>-2.198884</td><td>-2.067517</td></tr>\n",
       "</tbody>\n",
       "</table>\n"
      ],
      "text/latex": [
       "A data.frame: 2 × 39\n",
       "\\begin{tabular}{r|lllllllllllllllllllll}\n",
       "  & V1 & MejaControl\\_R1\\_ATL\\_CR & MejaControl\\_R3\\_ATL\\_CT & BTHControl\\_R2\\_ATL\\_CV & BTHControl\\_R3\\_ATL\\_CW & SaltLeaf\\_R1\\_ATL\\_DA & ColdLeafControl\\_R2\\_ATL\\_DH & DroughtLeaf\\_R2\\_ATL\\_DK & DroughtLeaf\\_R3\\_ATL\\_DL & Heat\\_R1\\_ATL\\_DP & ⋯ & ColdLeafControl\\_R3\\_ATL\\_DI & ColdLeaf\\_R1\\_ATL\\_DS & ColdLeaf\\_R2\\_ATL\\_DT & ColdLeaf\\_R3\\_ATL\\_DU & SaltRoot\\_R1\\_ATL\\_DV & SaltRoot\\_R3\\_ATL\\_DX & DroughtRoot\\_R1\\_ATL\\_DY & DroughtRoot\\_R2\\_ATL\\_DZ & DroughtRoot\\_R3\\_ATL\\_EA & RootControl\\_R1\\_ATL\\_EB\\\\\n",
       "  & <chr> & <dbl> & <dbl> & <dbl> & <dbl> & <dbl> & <dbl> & <dbl> & <dbl> & <dbl> & ⋯ & <dbl> & <dbl> & <dbl> & <dbl> & <dbl> & <dbl> & <dbl> & <dbl> & <dbl> & <dbl>\\\\\n",
       "\\hline\n",
       "\t1 & Soltu.Atl\\_v3.09\\_0G012740.1 & -0.559407 & -0.6376609 & -0.5373148 & -0.5119229 & -0.3991029 & -0.2997879 & -0.5891199 & -0.4704632 & -0.4683695 & ⋯ & -0.4641516 & -0.6092329 & -0.6068864 & -0.6379836 &  5.425528 &  4.852719 &  3.641948 &  4.943948 &  4.548304 &  4.591865\\\\\n",
       "\t2 & Soltu.Atl\\_v3.10\\_2G013020.1 & -2.189428 & -2.1952106 & -2.1877928 & -2.1859099 & -2.1786193 & -2.1729549 & -2.1916250 & -2.1828254 & -2.1826692 & ⋯ & -2.1823545 & -2.1931109 & -2.1929376 & -2.1952344 & -2.201074 & -2.203791 & -2.201255 & -2.066951 & -2.198884 & -2.067517\\\\\n",
       "\\end{tabular}\n"
      ],
      "text/markdown": [
       "\n",
       "A data.frame: 2 × 39\n",
       "\n",
       "| <!--/--> | V1 &lt;chr&gt; | MejaControl_R1_ATL_CR &lt;dbl&gt; | MejaControl_R3_ATL_CT &lt;dbl&gt; | BTHControl_R2_ATL_CV &lt;dbl&gt; | BTHControl_R3_ATL_CW &lt;dbl&gt; | SaltLeaf_R1_ATL_DA &lt;dbl&gt; | ColdLeafControl_R2_ATL_DH &lt;dbl&gt; | DroughtLeaf_R2_ATL_DK &lt;dbl&gt; | DroughtLeaf_R3_ATL_DL &lt;dbl&gt; | Heat_R1_ATL_DP &lt;dbl&gt; | ⋯ ⋯ | ColdLeafControl_R3_ATL_DI &lt;dbl&gt; | ColdLeaf_R1_ATL_DS &lt;dbl&gt; | ColdLeaf_R2_ATL_DT &lt;dbl&gt; | ColdLeaf_R3_ATL_DU &lt;dbl&gt; | SaltRoot_R1_ATL_DV &lt;dbl&gt; | SaltRoot_R3_ATL_DX &lt;dbl&gt; | DroughtRoot_R1_ATL_DY &lt;dbl&gt; | DroughtRoot_R2_ATL_DZ &lt;dbl&gt; | DroughtRoot_R3_ATL_EA &lt;dbl&gt; | RootControl_R1_ATL_EB &lt;dbl&gt; |\n",
       "|---|---|---|---|---|---|---|---|---|---|---|---|---|---|---|---|---|---|---|---|---|---|\n",
       "| 1 | Soltu.Atl_v3.09_0G012740.1 | -0.559407 | -0.6376609 | -0.5373148 | -0.5119229 | -0.3991029 | -0.2997879 | -0.5891199 | -0.4704632 | -0.4683695 | ⋯ | -0.4641516 | -0.6092329 | -0.6068864 | -0.6379836 |  5.425528 |  4.852719 |  3.641948 |  4.943948 |  4.548304 |  4.591865 |\n",
       "| 2 | Soltu.Atl_v3.10_2G013020.1 | -2.189428 | -2.1952106 | -2.1877928 | -2.1859099 | -2.1786193 | -2.1729549 | -2.1916250 | -2.1828254 | -2.1826692 | ⋯ | -2.1823545 | -2.1931109 | -2.1929376 | -2.1952344 | -2.201074 | -2.203791 | -2.201255 | -2.066951 | -2.198884 | -2.067517 |\n",
       "\n"
      ],
      "text/plain": [
       "  V1                         MejaControl_R1_ATL_CR MejaControl_R3_ATL_CT\n",
       "1 Soltu.Atl_v3.09_0G012740.1 -0.559407             -0.6376609           \n",
       "2 Soltu.Atl_v3.10_2G013020.1 -2.189428             -2.1952106           \n",
       "  BTHControl_R2_ATL_CV BTHControl_R3_ATL_CW SaltLeaf_R1_ATL_DA\n",
       "1 -0.5373148           -0.5119229           -0.3991029        \n",
       "2 -2.1877928           -2.1859099           -2.1786193        \n",
       "  ColdLeafControl_R2_ATL_DH DroughtLeaf_R2_ATL_DK DroughtLeaf_R3_ATL_DL\n",
       "1 -0.2997879                -0.5891199            -0.4704632           \n",
       "2 -2.1729549                -2.1916250            -2.1828254           \n",
       "  Heat_R1_ATL_DP ⋯ ColdLeafControl_R3_ATL_DI ColdLeaf_R1_ATL_DS\n",
       "1 -0.4683695     ⋯ -0.4641516                -0.6092329        \n",
       "2 -2.1826692     ⋯ -2.1823545                -2.1931109        \n",
       "  ColdLeaf_R2_ATL_DT ColdLeaf_R3_ATL_DU SaltRoot_R1_ATL_DV SaltRoot_R3_ATL_DX\n",
       "1 -0.6068864         -0.6379836          5.425528           4.852719         \n",
       "2 -2.1929376         -2.1952344         -2.201074          -2.203791         \n",
       "  DroughtRoot_R1_ATL_DY DroughtRoot_R2_ATL_DZ DroughtRoot_R3_ATL_EA\n",
       "1  3.641948              4.943948              4.548304            \n",
       "2 -2.201255             -2.066951             -2.198884            \n",
       "  RootControl_R1_ATL_EB\n",
       "1  4.591865            \n",
       "2 -2.067517            "
      ]
     },
     "metadata": {},
     "output_type": "display_data"
    }
   ],
   "source": [
    "Stress[1:2,]"
   ]
  },
  {
   "cell_type": "code",
   "execution_count": 6,
   "id": "0180450d-4a6c-4aea-9773-d20beafb41ab",
   "metadata": {},
   "outputs": [
    {
     "data": {
      "text/html": [
       "<style>\n",
       ".list-inline {list-style: none; margin:0; padding: 0}\n",
       ".list-inline>li {display: inline-block}\n",
       ".list-inline>li:not(:last-child)::after {content: \"\\00b7\"; padding: 0 .5ex}\n",
       "</style>\n",
       "<ol class=list-inline><li>'V1'</li><li>'MejaControl_R1_ATL_CR'</li><li>'MejaControl_R3_ATL_CT'</li><li>'BTHControl_R2_ATL_CV'</li><li>'BTHControl_R3_ATL_CW'</li><li>'SaltLeaf_R1_ATL_DA'</li><li>'ColdLeafControl_R2_ATL_DH'</li><li>'DroughtLeaf_R2_ATL_DK'</li><li>'DroughtLeaf_R3_ATL_DL'</li><li>'Heat_R1_ATL_DP'</li><li>'Heat_R2_ATL_DQ'</li><li>'Heat_R3_ATL_DR'</li><li>'SaltRoot_R2_ATL_DW'</li><li>'RootControl_R2_ATL_EC'</li><li>'RootControl_R3_ATL_ED'</li><li>'HeatControl_R1_ATL_CJ'</li><li>'HeatControl_R2_ATL_CK'</li><li>'Meja_R1_ATL_CP'</li><li>'Meja_R3_ATL_CQ'</li><li>'BTH_R1_ATL_EL'</li><li>'BTH_R2_ATL_EM'</li><li>'BTH_R3_ATL_EN'</li><li>'MejaControl_R2_ATL_ER'</li><li>'SaltLeaf_R2_ATL_DB'</li><li>'SaltLeaf_R3_ATL_DC'</li><li>'SaltLeafControl_R1_ATL_DD'</li><li>'SaltLeafControl_R2_ATL_DE'</li><li>'SaltLeafControl_R3_ATL_DF'</li><li>'ColdLeafControl_R1_ATL_DG'</li><li>'ColdLeafControl_R3_ATL_DI'</li><li>'ColdLeaf_R1_ATL_DS'</li><li>'ColdLeaf_R2_ATL_DT'</li><li>'ColdLeaf_R3_ATL_DU'</li><li>'SaltRoot_R1_ATL_DV'</li><li>'SaltRoot_R3_ATL_DX'</li><li>'DroughtRoot_R1_ATL_DY'</li><li>'DroughtRoot_R2_ATL_DZ'</li><li>'DroughtRoot_R3_ATL_EA'</li><li>'RootControl_R1_ATL_EB'</li></ol>\n"
      ],
      "text/latex": [
       "\\begin{enumerate*}\n",
       "\\item 'V1'\n",
       "\\item 'MejaControl\\_R1\\_ATL\\_CR'\n",
       "\\item 'MejaControl\\_R3\\_ATL\\_CT'\n",
       "\\item 'BTHControl\\_R2\\_ATL\\_CV'\n",
       "\\item 'BTHControl\\_R3\\_ATL\\_CW'\n",
       "\\item 'SaltLeaf\\_R1\\_ATL\\_DA'\n",
       "\\item 'ColdLeafControl\\_R2\\_ATL\\_DH'\n",
       "\\item 'DroughtLeaf\\_R2\\_ATL\\_DK'\n",
       "\\item 'DroughtLeaf\\_R3\\_ATL\\_DL'\n",
       "\\item 'Heat\\_R1\\_ATL\\_DP'\n",
       "\\item 'Heat\\_R2\\_ATL\\_DQ'\n",
       "\\item 'Heat\\_R3\\_ATL\\_DR'\n",
       "\\item 'SaltRoot\\_R2\\_ATL\\_DW'\n",
       "\\item 'RootControl\\_R2\\_ATL\\_EC'\n",
       "\\item 'RootControl\\_R3\\_ATL\\_ED'\n",
       "\\item 'HeatControl\\_R1\\_ATL\\_CJ'\n",
       "\\item 'HeatControl\\_R2\\_ATL\\_CK'\n",
       "\\item 'Meja\\_R1\\_ATL\\_CP'\n",
       "\\item 'Meja\\_R3\\_ATL\\_CQ'\n",
       "\\item 'BTH\\_R1\\_ATL\\_EL'\n",
       "\\item 'BTH\\_R2\\_ATL\\_EM'\n",
       "\\item 'BTH\\_R3\\_ATL\\_EN'\n",
       "\\item 'MejaControl\\_R2\\_ATL\\_ER'\n",
       "\\item 'SaltLeaf\\_R2\\_ATL\\_DB'\n",
       "\\item 'SaltLeaf\\_R3\\_ATL\\_DC'\n",
       "\\item 'SaltLeafControl\\_R1\\_ATL\\_DD'\n",
       "\\item 'SaltLeafControl\\_R2\\_ATL\\_DE'\n",
       "\\item 'SaltLeafControl\\_R3\\_ATL\\_DF'\n",
       "\\item 'ColdLeafControl\\_R1\\_ATL\\_DG'\n",
       "\\item 'ColdLeafControl\\_R3\\_ATL\\_DI'\n",
       "\\item 'ColdLeaf\\_R1\\_ATL\\_DS'\n",
       "\\item 'ColdLeaf\\_R2\\_ATL\\_DT'\n",
       "\\item 'ColdLeaf\\_R3\\_ATL\\_DU'\n",
       "\\item 'SaltRoot\\_R1\\_ATL\\_DV'\n",
       "\\item 'SaltRoot\\_R3\\_ATL\\_DX'\n",
       "\\item 'DroughtRoot\\_R1\\_ATL\\_DY'\n",
       "\\item 'DroughtRoot\\_R2\\_ATL\\_DZ'\n",
       "\\item 'DroughtRoot\\_R3\\_ATL\\_EA'\n",
       "\\item 'RootControl\\_R1\\_ATL\\_EB'\n",
       "\\end{enumerate*}\n"
      ],
      "text/markdown": [
       "1. 'V1'\n",
       "2. 'MejaControl_R1_ATL_CR'\n",
       "3. 'MejaControl_R3_ATL_CT'\n",
       "4. 'BTHControl_R2_ATL_CV'\n",
       "5. 'BTHControl_R3_ATL_CW'\n",
       "6. 'SaltLeaf_R1_ATL_DA'\n",
       "7. 'ColdLeafControl_R2_ATL_DH'\n",
       "8. 'DroughtLeaf_R2_ATL_DK'\n",
       "9. 'DroughtLeaf_R3_ATL_DL'\n",
       "10. 'Heat_R1_ATL_DP'\n",
       "11. 'Heat_R2_ATL_DQ'\n",
       "12. 'Heat_R3_ATL_DR'\n",
       "13. 'SaltRoot_R2_ATL_DW'\n",
       "14. 'RootControl_R2_ATL_EC'\n",
       "15. 'RootControl_R3_ATL_ED'\n",
       "16. 'HeatControl_R1_ATL_CJ'\n",
       "17. 'HeatControl_R2_ATL_CK'\n",
       "18. 'Meja_R1_ATL_CP'\n",
       "19. 'Meja_R3_ATL_CQ'\n",
       "20. 'BTH_R1_ATL_EL'\n",
       "21. 'BTH_R2_ATL_EM'\n",
       "22. 'BTH_R3_ATL_EN'\n",
       "23. 'MejaControl_R2_ATL_ER'\n",
       "24. 'SaltLeaf_R2_ATL_DB'\n",
       "25. 'SaltLeaf_R3_ATL_DC'\n",
       "26. 'SaltLeafControl_R1_ATL_DD'\n",
       "27. 'SaltLeafControl_R2_ATL_DE'\n",
       "28. 'SaltLeafControl_R3_ATL_DF'\n",
       "29. 'ColdLeafControl_R1_ATL_DG'\n",
       "30. 'ColdLeafControl_R3_ATL_DI'\n",
       "31. 'ColdLeaf_R1_ATL_DS'\n",
       "32. 'ColdLeaf_R2_ATL_DT'\n",
       "33. 'ColdLeaf_R3_ATL_DU'\n",
       "34. 'SaltRoot_R1_ATL_DV'\n",
       "35. 'SaltRoot_R3_ATL_DX'\n",
       "36. 'DroughtRoot_R1_ATL_DY'\n",
       "37. 'DroughtRoot_R2_ATL_DZ'\n",
       "38. 'DroughtRoot_R3_ATL_EA'\n",
       "39. 'RootControl_R1_ATL_EB'\n",
       "\n",
       "\n"
      ],
      "text/plain": [
       " [1] \"V1\"                        \"MejaControl_R1_ATL_CR\"    \n",
       " [3] \"MejaControl_R3_ATL_CT\"     \"BTHControl_R2_ATL_CV\"     \n",
       " [5] \"BTHControl_R3_ATL_CW\"      \"SaltLeaf_R1_ATL_DA\"       \n",
       " [7] \"ColdLeafControl_R2_ATL_DH\" \"DroughtLeaf_R2_ATL_DK\"    \n",
       " [9] \"DroughtLeaf_R3_ATL_DL\"     \"Heat_R1_ATL_DP\"           \n",
       "[11] \"Heat_R2_ATL_DQ\"            \"Heat_R3_ATL_DR\"           \n",
       "[13] \"SaltRoot_R2_ATL_DW\"        \"RootControl_R2_ATL_EC\"    \n",
       "[15] \"RootControl_R3_ATL_ED\"     \"HeatControl_R1_ATL_CJ\"    \n",
       "[17] \"HeatControl_R2_ATL_CK\"     \"Meja_R1_ATL_CP\"           \n",
       "[19] \"Meja_R3_ATL_CQ\"            \"BTH_R1_ATL_EL\"            \n",
       "[21] \"BTH_R2_ATL_EM\"             \"BTH_R3_ATL_EN\"            \n",
       "[23] \"MejaControl_R2_ATL_ER\"     \"SaltLeaf_R2_ATL_DB\"       \n",
       "[25] \"SaltLeaf_R3_ATL_DC\"        \"SaltLeafControl_R1_ATL_DD\"\n",
       "[27] \"SaltLeafControl_R2_ATL_DE\" \"SaltLeafControl_R3_ATL_DF\"\n",
       "[29] \"ColdLeafControl_R1_ATL_DG\" \"ColdLeafControl_R3_ATL_DI\"\n",
       "[31] \"ColdLeaf_R1_ATL_DS\"        \"ColdLeaf_R2_ATL_DT\"       \n",
       "[33] \"ColdLeaf_R3_ATL_DU\"        \"SaltRoot_R1_ATL_DV\"       \n",
       "[35] \"SaltRoot_R3_ATL_DX\"        \"DroughtRoot_R1_ATL_DY\"    \n",
       "[37] \"DroughtRoot_R2_ATL_DZ\"     \"DroughtRoot_R3_ATL_EA\"    \n",
       "[39] \"RootControl_R1_ATL_EB\"    "
      ]
     },
     "metadata": {},
     "output_type": "display_data"
    }
   ],
   "source": [
    "\n",
    "\n",
    "Stress_names <- colnames(Stress)\n",
    "Stress_names"
   ]
  },
  {
   "cell_type": "code",
   "execution_count": 7,
   "id": "7347f905-c5bd-45d7-9298-fa0b7db1688e",
   "metadata": {},
   "outputs": [],
   "source": [
    "Stress_names <- str_sub(Stress_names, 1, -8)"
   ]
  },
  {
   "cell_type": "code",
   "execution_count": 30,
   "id": "46037d02-3056-4368-8175-46e37daf25bc",
   "metadata": {},
   "outputs": [
    {
     "data": {
      "text/html": [
       "<style>\n",
       ".list-inline {list-style: none; margin:0; padding: 0}\n",
       ".list-inline>li {display: inline-block}\n",
       ".list-inline>li:not(:last-child)::after {content: \"\\00b7\"; padding: 0 .5ex}\n",
       "</style>\n",
       "<ol class=list-inline><li>'GeneID'</li><li>'MejaControl_R1'</li><li>'MejaControl_R3'</li><li>'BTHControl_R2'</li><li>'BTHControl_R3'</li><li>'SaltLeaf_R1'</li><li>'ColdLeafControl_R2'</li><li>'DroughtLeaf_R2'</li><li>'DroughtLeaf_R3'</li><li>'Heat_R1'</li><li>'Heat_R2'</li><li>'Heat_R3'</li><li>'SaltRoot_R2'</li><li>'RootControl_R2'</li><li>'RootControl_R3'</li><li>'HeatControl_R1'</li><li>'HeatControl_R2'</li><li>'Meja_R1'</li><li>'Meja_R3'</li><li>'BTH_R1'</li><li>'BTH_R2'</li><li>'BTH_R3'</li><li>'MejaControl_R2'</li><li>'SaltLeaf_R2'</li><li>'SaltLeaf_R3'</li><li>'SaltLeafControl_R1'</li><li>'SaltLeafControl_R2'</li><li>'SaltLeafControl_R3'</li><li>'ColdLeafControl_R1'</li><li>'ColdLeafControl_R3'</li><li>'ColdLeaf_R1'</li><li>'ColdLeaf_R2'</li><li>'ColdLeaf_R3'</li><li>'SaltRoot_R1'</li><li>'SaltRoot_R3'</li><li>'DroughtRoot_R1'</li><li>'DroughtRoot_R2'</li><li>'DroughtRoot_R3'</li><li>'RootControl_R1'</li></ol>\n"
      ],
      "text/latex": [
       "\\begin{enumerate*}\n",
       "\\item 'GeneID'\n",
       "\\item 'MejaControl\\_R1'\n",
       "\\item 'MejaControl\\_R3'\n",
       "\\item 'BTHControl\\_R2'\n",
       "\\item 'BTHControl\\_R3'\n",
       "\\item 'SaltLeaf\\_R1'\n",
       "\\item 'ColdLeafControl\\_R2'\n",
       "\\item 'DroughtLeaf\\_R2'\n",
       "\\item 'DroughtLeaf\\_R3'\n",
       "\\item 'Heat\\_R1'\n",
       "\\item 'Heat\\_R2'\n",
       "\\item 'Heat\\_R3'\n",
       "\\item 'SaltRoot\\_R2'\n",
       "\\item 'RootControl\\_R2'\n",
       "\\item 'RootControl\\_R3'\n",
       "\\item 'HeatControl\\_R1'\n",
       "\\item 'HeatControl\\_R2'\n",
       "\\item 'Meja\\_R1'\n",
       "\\item 'Meja\\_R3'\n",
       "\\item 'BTH\\_R1'\n",
       "\\item 'BTH\\_R2'\n",
       "\\item 'BTH\\_R3'\n",
       "\\item 'MejaControl\\_R2'\n",
       "\\item 'SaltLeaf\\_R2'\n",
       "\\item 'SaltLeaf\\_R3'\n",
       "\\item 'SaltLeafControl\\_R1'\n",
       "\\item 'SaltLeafControl\\_R2'\n",
       "\\item 'SaltLeafControl\\_R3'\n",
       "\\item 'ColdLeafControl\\_R1'\n",
       "\\item 'ColdLeafControl\\_R3'\n",
       "\\item 'ColdLeaf\\_R1'\n",
       "\\item 'ColdLeaf\\_R2'\n",
       "\\item 'ColdLeaf\\_R3'\n",
       "\\item 'SaltRoot\\_R1'\n",
       "\\item 'SaltRoot\\_R3'\n",
       "\\item 'DroughtRoot\\_R1'\n",
       "\\item 'DroughtRoot\\_R2'\n",
       "\\item 'DroughtRoot\\_R3'\n",
       "\\item 'RootControl\\_R1'\n",
       "\\end{enumerate*}\n"
      ],
      "text/markdown": [
       "1. 'GeneID'\n",
       "2. 'MejaControl_R1'\n",
       "3. 'MejaControl_R3'\n",
       "4. 'BTHControl_R2'\n",
       "5. 'BTHControl_R3'\n",
       "6. 'SaltLeaf_R1'\n",
       "7. 'ColdLeafControl_R2'\n",
       "8. 'DroughtLeaf_R2'\n",
       "9. 'DroughtLeaf_R3'\n",
       "10. 'Heat_R1'\n",
       "11. 'Heat_R2'\n",
       "12. 'Heat_R3'\n",
       "13. 'SaltRoot_R2'\n",
       "14. 'RootControl_R2'\n",
       "15. 'RootControl_R3'\n",
       "16. 'HeatControl_R1'\n",
       "17. 'HeatControl_R2'\n",
       "18. 'Meja_R1'\n",
       "19. 'Meja_R3'\n",
       "20. 'BTH_R1'\n",
       "21. 'BTH_R2'\n",
       "22. 'BTH_R3'\n",
       "23. 'MejaControl_R2'\n",
       "24. 'SaltLeaf_R2'\n",
       "25. 'SaltLeaf_R3'\n",
       "26. 'SaltLeafControl_R1'\n",
       "27. 'SaltLeafControl_R2'\n",
       "28. 'SaltLeafControl_R3'\n",
       "29. 'ColdLeafControl_R1'\n",
       "30. 'ColdLeafControl_R3'\n",
       "31. 'ColdLeaf_R1'\n",
       "32. 'ColdLeaf_R2'\n",
       "33. 'ColdLeaf_R3'\n",
       "34. 'SaltRoot_R1'\n",
       "35. 'SaltRoot_R3'\n",
       "36. 'DroughtRoot_R1'\n",
       "37. 'DroughtRoot_R2'\n",
       "38. 'DroughtRoot_R3'\n",
       "39. 'RootControl_R1'\n",
       "\n",
       "\n"
      ],
      "text/plain": [
       " [1] \"GeneID\"             \"MejaControl_R1\"     \"MejaControl_R3\"    \n",
       " [4] \"BTHControl_R2\"      \"BTHControl_R3\"      \"SaltLeaf_R1\"       \n",
       " [7] \"ColdLeafControl_R2\" \"DroughtLeaf_R2\"     \"DroughtLeaf_R3\"    \n",
       "[10] \"Heat_R1\"            \"Heat_R2\"            \"Heat_R3\"           \n",
       "[13] \"SaltRoot_R2\"        \"RootControl_R2\"     \"RootControl_R3\"    \n",
       "[16] \"HeatControl_R1\"     \"HeatControl_R2\"     \"Meja_R1\"           \n",
       "[19] \"Meja_R3\"            \"BTH_R1\"             \"BTH_R2\"            \n",
       "[22] \"BTH_R3\"             \"MejaControl_R2\"     \"SaltLeaf_R2\"       \n",
       "[25] \"SaltLeaf_R3\"        \"SaltLeafControl_R1\" \"SaltLeafControl_R2\"\n",
       "[28] \"SaltLeafControl_R3\" \"ColdLeafControl_R1\" \"ColdLeafControl_R3\"\n",
       "[31] \"ColdLeaf_R1\"        \"ColdLeaf_R2\"        \"ColdLeaf_R3\"       \n",
       "[34] \"SaltRoot_R1\"        \"SaltRoot_R3\"        \"DroughtRoot_R1\"    \n",
       "[37] \"DroughtRoot_R2\"     \"DroughtRoot_R3\"     \"RootControl_R1\"    "
      ]
     },
     "metadata": {},
     "output_type": "display_data"
    }
   ],
   "source": [
    "Stress_names"
   ]
  },
  {
   "cell_type": "code",
   "execution_count": 9,
   "id": "e3f12192-fb97-48b1-a086-8be7ddec6e8c",
   "metadata": {},
   "outputs": [
    {
     "data": {
      "text/html": [
       "<style>\n",
       ".list-inline {list-style: none; margin:0; padding: 0}\n",
       ".list-inline>li {display: inline-block}\n",
       ".list-inline>li:not(:last-child)::after {content: \"\\00b7\"; padding: 0 .5ex}\n",
       "</style>\n",
       "<ol class=list-inline><li>'MejaControl_R1'</li><li>'MejaControl_R3'</li></ol>\n"
      ],
      "text/latex": [
       "\\begin{enumerate*}\n",
       "\\item 'MejaControl\\_R1'\n",
       "\\item 'MejaControl\\_R3'\n",
       "\\end{enumerate*}\n"
      ],
      "text/markdown": [
       "1. 'MejaControl_R1'\n",
       "2. 'MejaControl_R3'\n",
       "\n",
       "\n"
      ],
      "text/plain": [
       "[1] \"MejaControl_R1\" \"MejaControl_R3\""
      ]
     },
     "metadata": {},
     "output_type": "display_data"
    }
   ],
   "source": [
    "Stress_names <- Stress_names[-1]\n",
    "Stress_names[1:2]"
   ]
  },
  {
   "cell_type": "code",
   "execution_count": 10,
   "id": "1dfb4b79-5000-4a52-90b9-c9aa83d27891",
   "metadata": {},
   "outputs": [
    {
     "data": {
      "text/html": [
       "<style>\n",
       ".list-inline {list-style: none; margin:0; padding: 0}\n",
       ".list-inline>li {display: inline-block}\n",
       ".list-inline>li:not(:last-child)::after {content: \"\\00b7\"; padding: 0 .5ex}\n",
       "</style>\n",
       "<ol class=list-inline><li>'GeneID'</li><li>'MejaControl_R1'</li></ol>\n"
      ],
      "text/latex": [
       "\\begin{enumerate*}\n",
       "\\item 'GeneID'\n",
       "\\item 'MejaControl\\_R1'\n",
       "\\end{enumerate*}\n"
      ],
      "text/markdown": [
       "1. 'GeneID'\n",
       "2. 'MejaControl_R1'\n",
       "\n",
       "\n"
      ],
      "text/plain": [
       "[1] \"GeneID\"         \"MejaControl_R1\""
      ]
     },
     "metadata": {},
     "output_type": "display_data"
    }
   ],
   "source": [
    "Stress_names <- c(\"GeneID\", Stress_names)\n",
    "Stress_names[1:2]"
   ]
  },
  {
   "cell_type": "code",
   "execution_count": 11,
   "id": "35abf969-50b8-4b16-90c8-a9eb2dde67d3",
   "metadata": {},
   "outputs": [
    {
     "data": {
      "text/html": [
       "<table class=\"dataframe\">\n",
       "<caption>A data.frame: 2 × 39</caption>\n",
       "<thead>\n",
       "\t<tr><th></th><th scope=col>GeneID</th><th scope=col>MejaControl_R1</th><th scope=col>MejaControl_R3</th><th scope=col>BTHControl_R2</th><th scope=col>BTHControl_R3</th><th scope=col>SaltLeaf_R1</th><th scope=col>ColdLeafControl_R2</th><th scope=col>DroughtLeaf_R2</th><th scope=col>DroughtLeaf_R3</th><th scope=col>Heat_R1</th><th scope=col>⋯</th><th scope=col>ColdLeafControl_R3</th><th scope=col>ColdLeaf_R1</th><th scope=col>ColdLeaf_R2</th><th scope=col>ColdLeaf_R3</th><th scope=col>SaltRoot_R1</th><th scope=col>SaltRoot_R3</th><th scope=col>DroughtRoot_R1</th><th scope=col>DroughtRoot_R2</th><th scope=col>DroughtRoot_R3</th><th scope=col>RootControl_R1</th></tr>\n",
       "\t<tr><th></th><th scope=col>&lt;chr&gt;</th><th scope=col>&lt;dbl&gt;</th><th scope=col>&lt;dbl&gt;</th><th scope=col>&lt;dbl&gt;</th><th scope=col>&lt;dbl&gt;</th><th scope=col>&lt;dbl&gt;</th><th scope=col>&lt;dbl&gt;</th><th scope=col>&lt;dbl&gt;</th><th scope=col>&lt;dbl&gt;</th><th scope=col>&lt;dbl&gt;</th><th scope=col>⋯</th><th scope=col>&lt;dbl&gt;</th><th scope=col>&lt;dbl&gt;</th><th scope=col>&lt;dbl&gt;</th><th scope=col>&lt;dbl&gt;</th><th scope=col>&lt;dbl&gt;</th><th scope=col>&lt;dbl&gt;</th><th scope=col>&lt;dbl&gt;</th><th scope=col>&lt;dbl&gt;</th><th scope=col>&lt;dbl&gt;</th><th scope=col>&lt;dbl&gt;</th></tr>\n",
       "</thead>\n",
       "<tbody>\n",
       "\t<tr><th scope=row>1</th><td>Soltu.Atl_v3.09_0G012740.1</td><td>-0.559407</td><td>-0.6376609</td><td>-0.5373148</td><td>-0.5119229</td><td>-0.3991029</td><td>-0.2997879</td><td>-0.5891199</td><td>-0.4704632</td><td>-0.4683695</td><td>⋯</td><td>-0.4641516</td><td>-0.6092329</td><td>-0.6068864</td><td>-0.6379836</td><td> 5.425528</td><td> 4.852719</td><td> 3.641948</td><td> 4.943948</td><td> 4.548304</td><td> 4.591865</td></tr>\n",
       "\t<tr><th scope=row>2</th><td>Soltu.Atl_v3.10_2G013020.1</td><td>-2.189428</td><td>-2.1952106</td><td>-2.1877928</td><td>-2.1859099</td><td>-2.1786193</td><td>-2.1729549</td><td>-2.1916250</td><td>-2.1828254</td><td>-2.1826692</td><td>⋯</td><td>-2.1823545</td><td>-2.1931109</td><td>-2.1929376</td><td>-2.1952344</td><td>-2.201074</td><td>-2.203791</td><td>-2.201255</td><td>-2.066951</td><td>-2.198884</td><td>-2.067517</td></tr>\n",
       "</tbody>\n",
       "</table>\n"
      ],
      "text/latex": [
       "A data.frame: 2 × 39\n",
       "\\begin{tabular}{r|lllllllllllllllllllll}\n",
       "  & GeneID & MejaControl\\_R1 & MejaControl\\_R3 & BTHControl\\_R2 & BTHControl\\_R3 & SaltLeaf\\_R1 & ColdLeafControl\\_R2 & DroughtLeaf\\_R2 & DroughtLeaf\\_R3 & Heat\\_R1 & ⋯ & ColdLeafControl\\_R3 & ColdLeaf\\_R1 & ColdLeaf\\_R2 & ColdLeaf\\_R3 & SaltRoot\\_R1 & SaltRoot\\_R3 & DroughtRoot\\_R1 & DroughtRoot\\_R2 & DroughtRoot\\_R3 & RootControl\\_R1\\\\\n",
       "  & <chr> & <dbl> & <dbl> & <dbl> & <dbl> & <dbl> & <dbl> & <dbl> & <dbl> & <dbl> & ⋯ & <dbl> & <dbl> & <dbl> & <dbl> & <dbl> & <dbl> & <dbl> & <dbl> & <dbl> & <dbl>\\\\\n",
       "\\hline\n",
       "\t1 & Soltu.Atl\\_v3.09\\_0G012740.1 & -0.559407 & -0.6376609 & -0.5373148 & -0.5119229 & -0.3991029 & -0.2997879 & -0.5891199 & -0.4704632 & -0.4683695 & ⋯ & -0.4641516 & -0.6092329 & -0.6068864 & -0.6379836 &  5.425528 &  4.852719 &  3.641948 &  4.943948 &  4.548304 &  4.591865\\\\\n",
       "\t2 & Soltu.Atl\\_v3.10\\_2G013020.1 & -2.189428 & -2.1952106 & -2.1877928 & -2.1859099 & -2.1786193 & -2.1729549 & -2.1916250 & -2.1828254 & -2.1826692 & ⋯ & -2.1823545 & -2.1931109 & -2.1929376 & -2.1952344 & -2.201074 & -2.203791 & -2.201255 & -2.066951 & -2.198884 & -2.067517\\\\\n",
       "\\end{tabular}\n"
      ],
      "text/markdown": [
       "\n",
       "A data.frame: 2 × 39\n",
       "\n",
       "| <!--/--> | GeneID &lt;chr&gt; | MejaControl_R1 &lt;dbl&gt; | MejaControl_R3 &lt;dbl&gt; | BTHControl_R2 &lt;dbl&gt; | BTHControl_R3 &lt;dbl&gt; | SaltLeaf_R1 &lt;dbl&gt; | ColdLeafControl_R2 &lt;dbl&gt; | DroughtLeaf_R2 &lt;dbl&gt; | DroughtLeaf_R3 &lt;dbl&gt; | Heat_R1 &lt;dbl&gt; | ⋯ ⋯ | ColdLeafControl_R3 &lt;dbl&gt; | ColdLeaf_R1 &lt;dbl&gt; | ColdLeaf_R2 &lt;dbl&gt; | ColdLeaf_R3 &lt;dbl&gt; | SaltRoot_R1 &lt;dbl&gt; | SaltRoot_R3 &lt;dbl&gt; | DroughtRoot_R1 &lt;dbl&gt; | DroughtRoot_R2 &lt;dbl&gt; | DroughtRoot_R3 &lt;dbl&gt; | RootControl_R1 &lt;dbl&gt; |\n",
       "|---|---|---|---|---|---|---|---|---|---|---|---|---|---|---|---|---|---|---|---|---|---|\n",
       "| 1 | Soltu.Atl_v3.09_0G012740.1 | -0.559407 | -0.6376609 | -0.5373148 | -0.5119229 | -0.3991029 | -0.2997879 | -0.5891199 | -0.4704632 | -0.4683695 | ⋯ | -0.4641516 | -0.6092329 | -0.6068864 | -0.6379836 |  5.425528 |  4.852719 |  3.641948 |  4.943948 |  4.548304 |  4.591865 |\n",
       "| 2 | Soltu.Atl_v3.10_2G013020.1 | -2.189428 | -2.1952106 | -2.1877928 | -2.1859099 | -2.1786193 | -2.1729549 | -2.1916250 | -2.1828254 | -2.1826692 | ⋯ | -2.1823545 | -2.1931109 | -2.1929376 | -2.1952344 | -2.201074 | -2.203791 | -2.201255 | -2.066951 | -2.198884 | -2.067517 |\n",
       "\n"
      ],
      "text/plain": [
       "  GeneID                     MejaControl_R1 MejaControl_R3 BTHControl_R2\n",
       "1 Soltu.Atl_v3.09_0G012740.1 -0.559407      -0.6376609     -0.5373148   \n",
       "2 Soltu.Atl_v3.10_2G013020.1 -2.189428      -2.1952106     -2.1877928   \n",
       "  BTHControl_R3 SaltLeaf_R1 ColdLeafControl_R2 DroughtLeaf_R2 DroughtLeaf_R3\n",
       "1 -0.5119229    -0.3991029  -0.2997879         -0.5891199     -0.4704632    \n",
       "2 -2.1859099    -2.1786193  -2.1729549         -2.1916250     -2.1828254    \n",
       "  Heat_R1    ⋯ ColdLeafControl_R3 ColdLeaf_R1 ColdLeaf_R2 ColdLeaf_R3\n",
       "1 -0.4683695 ⋯ -0.4641516         -0.6092329  -0.6068864  -0.6379836 \n",
       "2 -2.1826692 ⋯ -2.1823545         -2.1931109  -2.1929376  -2.1952344 \n",
       "  SaltRoot_R1 SaltRoot_R3 DroughtRoot_R1 DroughtRoot_R2 DroughtRoot_R3\n",
       "1  5.425528    4.852719    3.641948       4.943948       4.548304     \n",
       "2 -2.201074   -2.203791   -2.201255      -2.066951      -2.198884     \n",
       "  RootControl_R1\n",
       "1  4.591865     \n",
       "2 -2.067517     "
      ]
     },
     "metadata": {},
     "output_type": "display_data"
    }
   ],
   "source": [
    "colnames(Stress) <- Stress_names\n",
    "Stress[1:2,]"
   ]
  },
  {
   "cell_type": "code",
   "execution_count": 12,
   "id": "0fe58b94-5c8e-46d0-80aa-4a7c101f3fe7",
   "metadata": {},
   "outputs": [
    {
     "data": {
      "text/html": [
       "<table class=\"dataframe\">\n",
       "<caption>A tibble: 2 × 4</caption>\n",
       "<thead>\n",
       "\t<tr><th scope=col>GeneID</th><th scope=col>Condition</th><th scope=col>Replicate</th><th scope=col>rlog</th></tr>\n",
       "\t<tr><th scope=col>&lt;chr&gt;</th><th scope=col>&lt;chr&gt;</th><th scope=col>&lt;chr&gt;</th><th scope=col>&lt;dbl&gt;</th></tr>\n",
       "</thead>\n",
       "<tbody>\n",
       "\t<tr><td>Soltu.Atl_v3.09_0G012740.1</td><td>MejaControl</td><td>R1</td><td>-0.5594070</td></tr>\n",
       "\t<tr><td>Soltu.Atl_v3.09_0G012740.1</td><td>MejaControl</td><td>R3</td><td>-0.6376609</td></tr>\n",
       "</tbody>\n",
       "</table>\n"
      ],
      "text/latex": [
       "A tibble: 2 × 4\n",
       "\\begin{tabular}{llll}\n",
       " GeneID & Condition & Replicate & rlog\\\\\n",
       " <chr> & <chr> & <chr> & <dbl>\\\\\n",
       "\\hline\n",
       "\t Soltu.Atl\\_v3.09\\_0G012740.1 & MejaControl & R1 & -0.5594070\\\\\n",
       "\t Soltu.Atl\\_v3.09\\_0G012740.1 & MejaControl & R3 & -0.6376609\\\\\n",
       "\\end{tabular}\n"
      ],
      "text/markdown": [
       "\n",
       "A tibble: 2 × 4\n",
       "\n",
       "| GeneID &lt;chr&gt; | Condition &lt;chr&gt; | Replicate &lt;chr&gt; | rlog &lt;dbl&gt; |\n",
       "|---|---|---|---|\n",
       "| Soltu.Atl_v3.09_0G012740.1 | MejaControl | R1 | -0.5594070 |\n",
       "| Soltu.Atl_v3.09_0G012740.1 | MejaControl | R3 | -0.6376609 |\n",
       "\n"
      ],
      "text/plain": [
       "  GeneID                     Condition   Replicate rlog      \n",
       "1 Soltu.Atl_v3.09_0G012740.1 MejaControl R1        -0.5594070\n",
       "2 Soltu.Atl_v3.09_0G012740.1 MejaControl R3        -0.6376609"
      ]
     },
     "metadata": {},
     "output_type": "display_data"
    }
   ],
   "source": [
    "\n",
    "Stress_long<- Stress %>%  pivot_longer(!GeneID, names_to = c('Condition', 'Replicate'),\n",
    "                                          names_sep = '_',\n",
    "                                      values_to = 'rlog')\n",
    "Stress_long[1:2,]"
   ]
  },
  {
   "cell_type": "markdown",
   "id": "899ec09d-6f8a-48c7-984d-42cdf0906ff8",
   "metadata": {},
   "source": [
    "### Calculate average expression"
   ]
  },
  {
   "cell_type": "code",
   "execution_count": 13,
   "id": "e88977e2-5764-4ad1-8cd6-ded8ec5ac068",
   "metadata": {},
   "outputs": [
    {
     "name": "stderr",
     "output_type": "stream",
     "text": [
      "\u001b[1m\u001b[22m`summarise()` has grouped output by 'GeneID'. You can override\n",
      "using the `.groups` argument.\n"
     ]
    }
   ],
   "source": [
    "Stress_long_av<- Stress_long %>% group_by(GeneID, Condition) %>% summarize (mean_expression = mean(rlog), std = sd(rlog))"
   ]
  },
  {
   "cell_type": "code",
   "execution_count": 14,
   "id": "f661961f-541e-427d-abeb-afe886be96d3",
   "metadata": {},
   "outputs": [
    {
     "data": {
      "text/html": [
       "<table class=\"dataframe\">\n",
       "<caption>A grouped_df: 2 × 4</caption>\n",
       "<thead>\n",
       "\t<tr><th scope=col>GeneID</th><th scope=col>Condition</th><th scope=col>mean_expression</th><th scope=col>std</th></tr>\n",
       "\t<tr><th scope=col>&lt;chr&gt;</th><th scope=col>&lt;chr&gt;</th><th scope=col>&lt;dbl&gt;</th><th scope=col>&lt;dbl&gt;</th></tr>\n",
       "</thead>\n",
       "<tbody>\n",
       "\t<tr><td>Soltu.Atl_v3.01_0G000010.1</td><td>BTH       </td><td>0.54395137</td><td>0.8611260</td></tr>\n",
       "\t<tr><td>Soltu.Atl_v3.01_0G000010.1</td><td>BTHControl</td><td>0.03311851</td><td>0.5498508</td></tr>\n",
       "</tbody>\n",
       "</table>\n"
      ],
      "text/latex": [
       "A grouped\\_df: 2 × 4\n",
       "\\begin{tabular}{llll}\n",
       " GeneID & Condition & mean\\_expression & std\\\\\n",
       " <chr> & <chr> & <dbl> & <dbl>\\\\\n",
       "\\hline\n",
       "\t Soltu.Atl\\_v3.01\\_0G000010.1 & BTH        & 0.54395137 & 0.8611260\\\\\n",
       "\t Soltu.Atl\\_v3.01\\_0G000010.1 & BTHControl & 0.03311851 & 0.5498508\\\\\n",
       "\\end{tabular}\n"
      ],
      "text/markdown": [
       "\n",
       "A grouped_df: 2 × 4\n",
       "\n",
       "| GeneID &lt;chr&gt; | Condition &lt;chr&gt; | mean_expression &lt;dbl&gt; | std &lt;dbl&gt; |\n",
       "|---|---|---|---|\n",
       "| Soltu.Atl_v3.01_0G000010.1 | BTH        | 0.54395137 | 0.8611260 |\n",
       "| Soltu.Atl_v3.01_0G000010.1 | BTHControl | 0.03311851 | 0.5498508 |\n",
       "\n"
      ],
      "text/plain": [
       "  GeneID                     Condition  mean_expression std      \n",
       "1 Soltu.Atl_v3.01_0G000010.1 BTH        0.54395137      0.8611260\n",
       "2 Soltu.Atl_v3.01_0G000010.1 BTHControl 0.03311851      0.5498508"
      ]
     },
     "metadata": {},
     "output_type": "display_data"
    }
   ],
   "source": [
    "Stress_long_av[1:2,]"
   ]
  },
  {
   "cell_type": "markdown",
   "id": "ab2f139c-5ccb-4cec-aa2e-0245afef8473",
   "metadata": {},
   "source": [
    "### Select only expressed genes = max mean rlog > 0\n"
   ]
  },
  {
   "cell_type": "code",
   "execution_count": 15,
   "id": "8d7b584d-8099-4018-8413-d281913e85fe",
   "metadata": {},
   "outputs": [
    {
     "data": {
      "text/html": [
       "1832978"
      ],
      "text/latex": [
       "1832978"
      ],
      "text/markdown": [
       "1832978"
      ],
      "text/plain": [
       "[1] 1832978"
      ]
     },
     "metadata": {},
     "output_type": "display_data"
    },
    {
     "data": {
      "text/html": [
       "130927"
      ],
      "text/latex": [
       "130927"
      ],
      "text/markdown": [
       "130927"
      ],
      "text/plain": [
       "[1] 130927"
      ]
     },
     "metadata": {},
     "output_type": "display_data"
    },
    {
     "data": {
      "text/html": [
       "1372308"
      ],
      "text/latex": [
       "1372308"
      ],
      "text/markdown": [
       "1372308"
      ],
      "text/plain": [
       "[1] 1372308"
      ]
     },
     "metadata": {},
     "output_type": "display_data"
    },
    {
     "data": {
      "text/html": [
       "98022"
      ],
      "text/latex": [
       "98022"
      ],
      "text/markdown": [
       "98022"
      ],
      "text/plain": [
       "[1] 98022"
      ]
     },
     "metadata": {},
     "output_type": "display_data"
    }
   ],
   "source": [
    "nrow(Stress_long_av)\n",
    "Stress_long_av %>% select(GeneID) %>% unique() %>% nrow()\n",
    "Stress_long_av_expr <- Stress_long_av %>% group_by(GeneID) %>% mutate (MaxExpression = max(mean_expression)) %>% \n",
    "                ungroup() %>% filter(MaxExpression > 0)\n",
    "nrow(Stress_long_av_expr)\n",
    "Stress_long_av_expr %>% select(GeneID) %>% unique()%>% nrow()"
   ]
  },
  {
   "cell_type": "code",
   "execution_count": 16,
   "id": "89a9cfbb-e414-4ca2-a9d9-8947f45c1a22",
   "metadata": {},
   "outputs": [
    {
     "data": {
      "text/html": [
       "<table class=\"dataframe\">\n",
       "<caption>A tibble: 2 × 5</caption>\n",
       "<thead>\n",
       "\t<tr><th scope=col>GeneID</th><th scope=col>Condition</th><th scope=col>mean_expression</th><th scope=col>std</th><th scope=col>MaxExpression</th></tr>\n",
       "\t<tr><th scope=col>&lt;chr&gt;</th><th scope=col>&lt;chr&gt;</th><th scope=col>&lt;dbl&gt;</th><th scope=col>&lt;dbl&gt;</th><th scope=col>&lt;dbl&gt;</th></tr>\n",
       "</thead>\n",
       "<tbody>\n",
       "\t<tr><td>Soltu.Atl_v3.01_0G000010.1</td><td>BTH       </td><td>0.54395137</td><td>0.8611260</td><td>0.5439514</td></tr>\n",
       "\t<tr><td>Soltu.Atl_v3.01_0G000010.1</td><td>BTHControl</td><td>0.03311851</td><td>0.5498508</td><td>0.5439514</td></tr>\n",
       "</tbody>\n",
       "</table>\n"
      ],
      "text/latex": [
       "A tibble: 2 × 5\n",
       "\\begin{tabular}{lllll}\n",
       " GeneID & Condition & mean\\_expression & std & MaxExpression\\\\\n",
       " <chr> & <chr> & <dbl> & <dbl> & <dbl>\\\\\n",
       "\\hline\n",
       "\t Soltu.Atl\\_v3.01\\_0G000010.1 & BTH        & 0.54395137 & 0.8611260 & 0.5439514\\\\\n",
       "\t Soltu.Atl\\_v3.01\\_0G000010.1 & BTHControl & 0.03311851 & 0.5498508 & 0.5439514\\\\\n",
       "\\end{tabular}\n"
      ],
      "text/markdown": [
       "\n",
       "A tibble: 2 × 5\n",
       "\n",
       "| GeneID &lt;chr&gt; | Condition &lt;chr&gt; | mean_expression &lt;dbl&gt; | std &lt;dbl&gt; | MaxExpression &lt;dbl&gt; |\n",
       "|---|---|---|---|---|\n",
       "| Soltu.Atl_v3.01_0G000010.1 | BTH        | 0.54395137 | 0.8611260 | 0.5439514 |\n",
       "| Soltu.Atl_v3.01_0G000010.1 | BTHControl | 0.03311851 | 0.5498508 | 0.5439514 |\n",
       "\n"
      ],
      "text/plain": [
       "  GeneID                     Condition  mean_expression std       MaxExpression\n",
       "1 Soltu.Atl_v3.01_0G000010.1 BTH        0.54395137      0.8611260 0.5439514    \n",
       "2 Soltu.Atl_v3.01_0G000010.1 BTHControl 0.03311851      0.5498508 0.5439514    "
      ]
     },
     "metadata": {},
     "output_type": "display_data"
    }
   ],
   "source": [
    "Stress_long_av_expr[1:2,]\n"
   ]
  },
  {
   "cell_type": "code",
   "execution_count": 17,
   "id": "4ffab057-88a2-4f90-9eb6-0479169a6fbe",
   "metadata": {},
   "outputs": [],
   "source": [
    "export(Stress_long_av_expr, file = './Results/Stress_long_av_expressed.csv')"
   ]
  },
  {
   "cell_type": "markdown",
   "id": "1bc8a833-743c-4fb8-9dc9-72affabf42b3",
   "metadata": {},
   "source": [
    "# Tissue dataset"
   ]
  },
  {
   "cell_type": "code",
   "execution_count": 18,
   "id": "7c7cbdd8-7c0e-4516-af45-6e4344d84228",
   "metadata": {},
   "outputs": [],
   "source": [
    "Tissue<- import('~/Dropbox/Potato/RNA-seq_2/RNAseq_analysis/Data/DEseq/Julia_Data/tissues_without_tc_outfile.csv',\n",
    "                                 sep =',', header = TRUE, fill = TRUE )"
   ]
  },
  {
   "cell_type": "code",
   "execution_count": 19,
   "id": "57c36fa2-efa5-48fd-8618-641da02d6d4a",
   "metadata": {},
   "outputs": [
    {
     "data": {
      "text/html": [
       "<style>\n",
       ".list-inline {list-style: none; margin:0; padding: 0}\n",
       ".list-inline>li {display: inline-block}\n",
       ".list-inline>li:not(:last-child)::after {content: \"\\00b7\"; padding: 0 .5ex}\n",
       "</style>\n",
       "<ol class=list-inline><li>'V1'</li><li>'TuberS4_R1_ATL_AN'</li><li>'TuberS4_R2_ATL_AO'</li><li>'TuberS4_R3_ATL_AP'</li><li>'TuberS3_R1_ATL_AQ'</li><li>'TuberS3_R2_ATL_AR'</li><li>'TuberS3_R3_ATL_AS'</li><li>'TuberS1_R1_ATL_AW'</li><li>'TuberS1_R2_ATL_AX'</li><li>'TuberS1_R3_ATL_AY'</li><li>'SwollenStolon_R1_ATL_AZ'</li><li>'SwollenStolon_R2_ATL_BA'</li><li>'SwollenStolon_R3_ATL_BB'</li><li>'HookedStolon_R1_ATL_BC'</li><li>'HookedStolon_R2_ATL_BD'</li><li>'HookedStolon_R3_ATL_BE'</li><li>'YL10am_R1_ATL_BI'</li><li>'YL10am_R2_ATL_BJ'</li><li>'YL10am_R3_ATL_BK'</li><li>'ClosedFlower_R1_ATL_CA'</li><li>'ClosedFlower_R2_ATL_CB'</li><li>'ClosedFlower_R3_ATL_CC'</li><li>'OpenFlower_R1_ATL_CD'</li><li>'OpenFlower_R3_ATL_CF'</li><li>'Sprout_R1_ATL_CG'</li><li>'Sprout_R2_ATL_CH'</li><li>'StemControl_R2_ATL_CY'</li><li>'StemControl_R3_ATL_CZ'</li><li>'ColdLeafControl_R2_ATL_DH'</li><li>'ImmFruit_R1_ATL_DM'</li><li>'ImmFruit_R2_ATL_DN'</li><li>'ImmFruit_R3_ATL_DO'</li><li>'RootControl_R2_ATL_EC'</li><li>'RootControl_R3_ATL_ED'</li><li>'MatureFruit_R1_ATL_EE'</li><li>'MatureFruit_R2_ATL_EF'</li><li>'MatureFruit_R3_ATL_EG'</li><li>'TuberS2_R1_ATL_EP'</li><li>'TuberS5_R1_ATL_AK'</li><li>'TuberS5_R2_ATL_AL'</li><li>'TuberS5_R3_ATL_AM'</li><li>'TuberS2_R2_ATL_AU'</li><li>'TuberS2_R3_ATL_AV'</li><li>'OpenFlower_R2_ATL_CE'</li><li>'StemControl_R1_ATL_CX'</li><li>'ColdLeafControl_R1_ATL_DG'</li><li>'ColdLeafControl_R3_ATL_DI'</li><li>'RootControl_R1_ATL_EB'</li></ol>\n"
      ],
      "text/latex": [
       "\\begin{enumerate*}\n",
       "\\item 'V1'\n",
       "\\item 'TuberS4\\_R1\\_ATL\\_AN'\n",
       "\\item 'TuberS4\\_R2\\_ATL\\_AO'\n",
       "\\item 'TuberS4\\_R3\\_ATL\\_AP'\n",
       "\\item 'TuberS3\\_R1\\_ATL\\_AQ'\n",
       "\\item 'TuberS3\\_R2\\_ATL\\_AR'\n",
       "\\item 'TuberS3\\_R3\\_ATL\\_AS'\n",
       "\\item 'TuberS1\\_R1\\_ATL\\_AW'\n",
       "\\item 'TuberS1\\_R2\\_ATL\\_AX'\n",
       "\\item 'TuberS1\\_R3\\_ATL\\_AY'\n",
       "\\item 'SwollenStolon\\_R1\\_ATL\\_AZ'\n",
       "\\item 'SwollenStolon\\_R2\\_ATL\\_BA'\n",
       "\\item 'SwollenStolon\\_R3\\_ATL\\_BB'\n",
       "\\item 'HookedStolon\\_R1\\_ATL\\_BC'\n",
       "\\item 'HookedStolon\\_R2\\_ATL\\_BD'\n",
       "\\item 'HookedStolon\\_R3\\_ATL\\_BE'\n",
       "\\item 'YL10am\\_R1\\_ATL\\_BI'\n",
       "\\item 'YL10am\\_R2\\_ATL\\_BJ'\n",
       "\\item 'YL10am\\_R3\\_ATL\\_BK'\n",
       "\\item 'ClosedFlower\\_R1\\_ATL\\_CA'\n",
       "\\item 'ClosedFlower\\_R2\\_ATL\\_CB'\n",
       "\\item 'ClosedFlower\\_R3\\_ATL\\_CC'\n",
       "\\item 'OpenFlower\\_R1\\_ATL\\_CD'\n",
       "\\item 'OpenFlower\\_R3\\_ATL\\_CF'\n",
       "\\item 'Sprout\\_R1\\_ATL\\_CG'\n",
       "\\item 'Sprout\\_R2\\_ATL\\_CH'\n",
       "\\item 'StemControl\\_R2\\_ATL\\_CY'\n",
       "\\item 'StemControl\\_R3\\_ATL\\_CZ'\n",
       "\\item 'ColdLeafControl\\_R2\\_ATL\\_DH'\n",
       "\\item 'ImmFruit\\_R1\\_ATL\\_DM'\n",
       "\\item 'ImmFruit\\_R2\\_ATL\\_DN'\n",
       "\\item 'ImmFruit\\_R3\\_ATL\\_DO'\n",
       "\\item 'RootControl\\_R2\\_ATL\\_EC'\n",
       "\\item 'RootControl\\_R3\\_ATL\\_ED'\n",
       "\\item 'MatureFruit\\_R1\\_ATL\\_EE'\n",
       "\\item 'MatureFruit\\_R2\\_ATL\\_EF'\n",
       "\\item 'MatureFruit\\_R3\\_ATL\\_EG'\n",
       "\\item 'TuberS2\\_R1\\_ATL\\_EP'\n",
       "\\item 'TuberS5\\_R1\\_ATL\\_AK'\n",
       "\\item 'TuberS5\\_R2\\_ATL\\_AL'\n",
       "\\item 'TuberS5\\_R3\\_ATL\\_AM'\n",
       "\\item 'TuberS2\\_R2\\_ATL\\_AU'\n",
       "\\item 'TuberS2\\_R3\\_ATL\\_AV'\n",
       "\\item 'OpenFlower\\_R2\\_ATL\\_CE'\n",
       "\\item 'StemControl\\_R1\\_ATL\\_CX'\n",
       "\\item 'ColdLeafControl\\_R1\\_ATL\\_DG'\n",
       "\\item 'ColdLeafControl\\_R3\\_ATL\\_DI'\n",
       "\\item 'RootControl\\_R1\\_ATL\\_EB'\n",
       "\\end{enumerate*}\n"
      ],
      "text/markdown": [
       "1. 'V1'\n",
       "2. 'TuberS4_R1_ATL_AN'\n",
       "3. 'TuberS4_R2_ATL_AO'\n",
       "4. 'TuberS4_R3_ATL_AP'\n",
       "5. 'TuberS3_R1_ATL_AQ'\n",
       "6. 'TuberS3_R2_ATL_AR'\n",
       "7. 'TuberS3_R3_ATL_AS'\n",
       "8. 'TuberS1_R1_ATL_AW'\n",
       "9. 'TuberS1_R2_ATL_AX'\n",
       "10. 'TuberS1_R3_ATL_AY'\n",
       "11. 'SwollenStolon_R1_ATL_AZ'\n",
       "12. 'SwollenStolon_R2_ATL_BA'\n",
       "13. 'SwollenStolon_R3_ATL_BB'\n",
       "14. 'HookedStolon_R1_ATL_BC'\n",
       "15. 'HookedStolon_R2_ATL_BD'\n",
       "16. 'HookedStolon_R3_ATL_BE'\n",
       "17. 'YL10am_R1_ATL_BI'\n",
       "18. 'YL10am_R2_ATL_BJ'\n",
       "19. 'YL10am_R3_ATL_BK'\n",
       "20. 'ClosedFlower_R1_ATL_CA'\n",
       "21. 'ClosedFlower_R2_ATL_CB'\n",
       "22. 'ClosedFlower_R3_ATL_CC'\n",
       "23. 'OpenFlower_R1_ATL_CD'\n",
       "24. 'OpenFlower_R3_ATL_CF'\n",
       "25. 'Sprout_R1_ATL_CG'\n",
       "26. 'Sprout_R2_ATL_CH'\n",
       "27. 'StemControl_R2_ATL_CY'\n",
       "28. 'StemControl_R3_ATL_CZ'\n",
       "29. 'ColdLeafControl_R2_ATL_DH'\n",
       "30. 'ImmFruit_R1_ATL_DM'\n",
       "31. 'ImmFruit_R2_ATL_DN'\n",
       "32. 'ImmFruit_R3_ATL_DO'\n",
       "33. 'RootControl_R2_ATL_EC'\n",
       "34. 'RootControl_R3_ATL_ED'\n",
       "35. 'MatureFruit_R1_ATL_EE'\n",
       "36. 'MatureFruit_R2_ATL_EF'\n",
       "37. 'MatureFruit_R3_ATL_EG'\n",
       "38. 'TuberS2_R1_ATL_EP'\n",
       "39. 'TuberS5_R1_ATL_AK'\n",
       "40. 'TuberS5_R2_ATL_AL'\n",
       "41. 'TuberS5_R3_ATL_AM'\n",
       "42. 'TuberS2_R2_ATL_AU'\n",
       "43. 'TuberS2_R3_ATL_AV'\n",
       "44. 'OpenFlower_R2_ATL_CE'\n",
       "45. 'StemControl_R1_ATL_CX'\n",
       "46. 'ColdLeafControl_R1_ATL_DG'\n",
       "47. 'ColdLeafControl_R3_ATL_DI'\n",
       "48. 'RootControl_R1_ATL_EB'\n",
       "\n",
       "\n"
      ],
      "text/plain": [
       " [1] \"V1\"                        \"TuberS4_R1_ATL_AN\"        \n",
       " [3] \"TuberS4_R2_ATL_AO\"         \"TuberS4_R3_ATL_AP\"        \n",
       " [5] \"TuberS3_R1_ATL_AQ\"         \"TuberS3_R2_ATL_AR\"        \n",
       " [7] \"TuberS3_R3_ATL_AS\"         \"TuberS1_R1_ATL_AW\"        \n",
       " [9] \"TuberS1_R2_ATL_AX\"         \"TuberS1_R3_ATL_AY\"        \n",
       "[11] \"SwollenStolon_R1_ATL_AZ\"   \"SwollenStolon_R2_ATL_BA\"  \n",
       "[13] \"SwollenStolon_R3_ATL_BB\"   \"HookedStolon_R1_ATL_BC\"   \n",
       "[15] \"HookedStolon_R2_ATL_BD\"    \"HookedStolon_R3_ATL_BE\"   \n",
       "[17] \"YL10am_R1_ATL_BI\"          \"YL10am_R2_ATL_BJ\"         \n",
       "[19] \"YL10am_R3_ATL_BK\"          \"ClosedFlower_R1_ATL_CA\"   \n",
       "[21] \"ClosedFlower_R2_ATL_CB\"    \"ClosedFlower_R3_ATL_CC\"   \n",
       "[23] \"OpenFlower_R1_ATL_CD\"      \"OpenFlower_R3_ATL_CF\"     \n",
       "[25] \"Sprout_R1_ATL_CG\"          \"Sprout_R2_ATL_CH\"         \n",
       "[27] \"StemControl_R2_ATL_CY\"     \"StemControl_R3_ATL_CZ\"    \n",
       "[29] \"ColdLeafControl_R2_ATL_DH\" \"ImmFruit_R1_ATL_DM\"       \n",
       "[31] \"ImmFruit_R2_ATL_DN\"        \"ImmFruit_R3_ATL_DO\"       \n",
       "[33] \"RootControl_R2_ATL_EC\"     \"RootControl_R3_ATL_ED\"    \n",
       "[35] \"MatureFruit_R1_ATL_EE\"     \"MatureFruit_R2_ATL_EF\"    \n",
       "[37] \"MatureFruit_R3_ATL_EG\"     \"TuberS2_R1_ATL_EP\"        \n",
       "[39] \"TuberS5_R1_ATL_AK\"         \"TuberS5_R2_ATL_AL\"        \n",
       "[41] \"TuberS5_R3_ATL_AM\"         \"TuberS2_R2_ATL_AU\"        \n",
       "[43] \"TuberS2_R3_ATL_AV\"         \"OpenFlower_R2_ATL_CE\"     \n",
       "[45] \"StemControl_R1_ATL_CX\"     \"ColdLeafControl_R1_ATL_DG\"\n",
       "[47] \"ColdLeafControl_R3_ATL_DI\" \"RootControl_R1_ATL_EB\"    "
      ]
     },
     "metadata": {},
     "output_type": "display_data"
    }
   ],
   "source": [
    "\n",
    "Tissue_names <- colnames(Tissue)\n",
    "Tissue_names"
   ]
  },
  {
   "cell_type": "code",
   "execution_count": 20,
   "id": "5b57f23f-91b4-45ae-b05b-bf1dbb91d57b",
   "metadata": {},
   "outputs": [],
   "source": [
    "Tissue_names <- str_sub(Tissue_names, 1, -8)"
   ]
  },
  {
   "cell_type": "code",
   "execution_count": 21,
   "id": "327f824a-7594-4ae6-9eb7-bab37bdf4c1e",
   "metadata": {},
   "outputs": [
    {
     "data": {
      "text/html": [
       "<style>\n",
       ".list-inline {list-style: none; margin:0; padding: 0}\n",
       ".list-inline>li {display: inline-block}\n",
       ".list-inline>li:not(:last-child)::after {content: \"\\00b7\"; padding: 0 .5ex}\n",
       "</style>\n",
       "<ol class=list-inline><li>''</li><li>'TuberS4_R1'</li><li>'TuberS4_R2'</li><li>'TuberS4_R3'</li><li>'TuberS3_R1'</li><li>'TuberS3_R2'</li><li>'TuberS3_R3'</li><li>'TuberS1_R1'</li><li>'TuberS1_R2'</li><li>'TuberS1_R3'</li><li>'SwollenStolon_R1'</li><li>'SwollenStolon_R2'</li><li>'SwollenStolon_R3'</li><li>'HookedStolon_R1'</li><li>'HookedStolon_R2'</li><li>'HookedStolon_R3'</li><li>'YL10am_R1'</li><li>'YL10am_R2'</li><li>'YL10am_R3'</li><li>'ClosedFlower_R1'</li><li>'ClosedFlower_R2'</li><li>'ClosedFlower_R3'</li><li>'OpenFlower_R1'</li><li>'OpenFlower_R3'</li><li>'Sprout_R1'</li><li>'Sprout_R2'</li><li>'StemControl_R2'</li><li>'StemControl_R3'</li><li>'ColdLeafControl_R2'</li><li>'ImmFruit_R1'</li><li>'ImmFruit_R2'</li><li>'ImmFruit_R3'</li><li>'RootControl_R2'</li><li>'RootControl_R3'</li><li>'MatureFruit_R1'</li><li>'MatureFruit_R2'</li><li>'MatureFruit_R3'</li><li>'TuberS2_R1'</li><li>'TuberS5_R1'</li><li>'TuberS5_R2'</li><li>'TuberS5_R3'</li><li>'TuberS2_R2'</li><li>'TuberS2_R3'</li><li>'OpenFlower_R2'</li><li>'StemControl_R1'</li><li>'ColdLeafControl_R1'</li><li>'ColdLeafControl_R3'</li><li>'RootControl_R1'</li></ol>\n"
      ],
      "text/latex": [
       "\\begin{enumerate*}\n",
       "\\item ''\n",
       "\\item 'TuberS4\\_R1'\n",
       "\\item 'TuberS4\\_R2'\n",
       "\\item 'TuberS4\\_R3'\n",
       "\\item 'TuberS3\\_R1'\n",
       "\\item 'TuberS3\\_R2'\n",
       "\\item 'TuberS3\\_R3'\n",
       "\\item 'TuberS1\\_R1'\n",
       "\\item 'TuberS1\\_R2'\n",
       "\\item 'TuberS1\\_R3'\n",
       "\\item 'SwollenStolon\\_R1'\n",
       "\\item 'SwollenStolon\\_R2'\n",
       "\\item 'SwollenStolon\\_R3'\n",
       "\\item 'HookedStolon\\_R1'\n",
       "\\item 'HookedStolon\\_R2'\n",
       "\\item 'HookedStolon\\_R3'\n",
       "\\item 'YL10am\\_R1'\n",
       "\\item 'YL10am\\_R2'\n",
       "\\item 'YL10am\\_R3'\n",
       "\\item 'ClosedFlower\\_R1'\n",
       "\\item 'ClosedFlower\\_R2'\n",
       "\\item 'ClosedFlower\\_R3'\n",
       "\\item 'OpenFlower\\_R1'\n",
       "\\item 'OpenFlower\\_R3'\n",
       "\\item 'Sprout\\_R1'\n",
       "\\item 'Sprout\\_R2'\n",
       "\\item 'StemControl\\_R2'\n",
       "\\item 'StemControl\\_R3'\n",
       "\\item 'ColdLeafControl\\_R2'\n",
       "\\item 'ImmFruit\\_R1'\n",
       "\\item 'ImmFruit\\_R2'\n",
       "\\item 'ImmFruit\\_R3'\n",
       "\\item 'RootControl\\_R2'\n",
       "\\item 'RootControl\\_R3'\n",
       "\\item 'MatureFruit\\_R1'\n",
       "\\item 'MatureFruit\\_R2'\n",
       "\\item 'MatureFruit\\_R3'\n",
       "\\item 'TuberS2\\_R1'\n",
       "\\item 'TuberS5\\_R1'\n",
       "\\item 'TuberS5\\_R2'\n",
       "\\item 'TuberS5\\_R3'\n",
       "\\item 'TuberS2\\_R2'\n",
       "\\item 'TuberS2\\_R3'\n",
       "\\item 'OpenFlower\\_R2'\n",
       "\\item 'StemControl\\_R1'\n",
       "\\item 'ColdLeafControl\\_R1'\n",
       "\\item 'ColdLeafControl\\_R3'\n",
       "\\item 'RootControl\\_R1'\n",
       "\\end{enumerate*}\n"
      ],
      "text/markdown": [
       "1. ''\n",
       "2. 'TuberS4_R1'\n",
       "3. 'TuberS4_R2'\n",
       "4. 'TuberS4_R3'\n",
       "5. 'TuberS3_R1'\n",
       "6. 'TuberS3_R2'\n",
       "7. 'TuberS3_R3'\n",
       "8. 'TuberS1_R1'\n",
       "9. 'TuberS1_R2'\n",
       "10. 'TuberS1_R3'\n",
       "11. 'SwollenStolon_R1'\n",
       "12. 'SwollenStolon_R2'\n",
       "13. 'SwollenStolon_R3'\n",
       "14. 'HookedStolon_R1'\n",
       "15. 'HookedStolon_R2'\n",
       "16. 'HookedStolon_R3'\n",
       "17. 'YL10am_R1'\n",
       "18. 'YL10am_R2'\n",
       "19. 'YL10am_R3'\n",
       "20. 'ClosedFlower_R1'\n",
       "21. 'ClosedFlower_R2'\n",
       "22. 'ClosedFlower_R3'\n",
       "23. 'OpenFlower_R1'\n",
       "24. 'OpenFlower_R3'\n",
       "25. 'Sprout_R1'\n",
       "26. 'Sprout_R2'\n",
       "27. 'StemControl_R2'\n",
       "28. 'StemControl_R3'\n",
       "29. 'ColdLeafControl_R2'\n",
       "30. 'ImmFruit_R1'\n",
       "31. 'ImmFruit_R2'\n",
       "32. 'ImmFruit_R3'\n",
       "33. 'RootControl_R2'\n",
       "34. 'RootControl_R3'\n",
       "35. 'MatureFruit_R1'\n",
       "36. 'MatureFruit_R2'\n",
       "37. 'MatureFruit_R3'\n",
       "38. 'TuberS2_R1'\n",
       "39. 'TuberS5_R1'\n",
       "40. 'TuberS5_R2'\n",
       "41. 'TuberS5_R3'\n",
       "42. 'TuberS2_R2'\n",
       "43. 'TuberS2_R3'\n",
       "44. 'OpenFlower_R2'\n",
       "45. 'StemControl_R1'\n",
       "46. 'ColdLeafControl_R1'\n",
       "47. 'ColdLeafControl_R3'\n",
       "48. 'RootControl_R1'\n",
       "\n",
       "\n"
      ],
      "text/plain": [
       " [1] \"\"                   \"TuberS4_R1\"         \"TuberS4_R2\"        \n",
       " [4] \"TuberS4_R3\"         \"TuberS3_R1\"         \"TuberS3_R2\"        \n",
       " [7] \"TuberS3_R3\"         \"TuberS1_R1\"         \"TuberS1_R2\"        \n",
       "[10] \"TuberS1_R3\"         \"SwollenStolon_R1\"   \"SwollenStolon_R2\"  \n",
       "[13] \"SwollenStolon_R3\"   \"HookedStolon_R1\"    \"HookedStolon_R2\"   \n",
       "[16] \"HookedStolon_R3\"    \"YL10am_R1\"          \"YL10am_R2\"         \n",
       "[19] \"YL10am_R3\"          \"ClosedFlower_R1\"    \"ClosedFlower_R2\"   \n",
       "[22] \"ClosedFlower_R3\"    \"OpenFlower_R1\"      \"OpenFlower_R3\"     \n",
       "[25] \"Sprout_R1\"          \"Sprout_R2\"          \"StemControl_R2\"    \n",
       "[28] \"StemControl_R3\"     \"ColdLeafControl_R2\" \"ImmFruit_R1\"       \n",
       "[31] \"ImmFruit_R2\"        \"ImmFruit_R3\"        \"RootControl_R2\"    \n",
       "[34] \"RootControl_R3\"     \"MatureFruit_R1\"     \"MatureFruit_R2\"    \n",
       "[37] \"MatureFruit_R3\"     \"TuberS2_R1\"         \"TuberS5_R1\"        \n",
       "[40] \"TuberS5_R2\"         \"TuberS5_R3\"         \"TuberS2_R2\"        \n",
       "[43] \"TuberS2_R3\"         \"OpenFlower_R2\"      \"StemControl_R1\"    \n",
       "[46] \"ColdLeafControl_R1\" \"ColdLeafControl_R3\" \"RootControl_R1\"    "
      ]
     },
     "metadata": {},
     "output_type": "display_data"
    }
   ],
   "source": [
    "Tissue_names"
   ]
  },
  {
   "cell_type": "code",
   "execution_count": 22,
   "id": "ac20bf05-ede1-4213-8477-6867c993385e",
   "metadata": {},
   "outputs": [
    {
     "data": {
      "text/html": [
       "<style>\n",
       ".list-inline {list-style: none; margin:0; padding: 0}\n",
       ".list-inline>li {display: inline-block}\n",
       ".list-inline>li:not(:last-child)::after {content: \"\\00b7\"; padding: 0 .5ex}\n",
       "</style>\n",
       "<ol class=list-inline><li>'TuberS4_R1'</li><li>'TuberS4_R2'</li></ol>\n"
      ],
      "text/latex": [
       "\\begin{enumerate*}\n",
       "\\item 'TuberS4\\_R1'\n",
       "\\item 'TuberS4\\_R2'\n",
       "\\end{enumerate*}\n"
      ],
      "text/markdown": [
       "1. 'TuberS4_R1'\n",
       "2. 'TuberS4_R2'\n",
       "\n",
       "\n"
      ],
      "text/plain": [
       "[1] \"TuberS4_R1\" \"TuberS4_R2\""
      ]
     },
     "metadata": {},
     "output_type": "display_data"
    }
   ],
   "source": [
    "Tissue_names <- Tissue_names[-1]\n",
    "Tissue_names[1:2]"
   ]
  },
  {
   "cell_type": "code",
   "execution_count": 23,
   "id": "52637945-495b-47bb-8452-5478ae74fb81",
   "metadata": {},
   "outputs": [
    {
     "data": {
      "text/html": [
       "<style>\n",
       ".list-inline {list-style: none; margin:0; padding: 0}\n",
       ".list-inline>li {display: inline-block}\n",
       ".list-inline>li:not(:last-child)::after {content: \"\\00b7\"; padding: 0 .5ex}\n",
       "</style>\n",
       "<ol class=list-inline><li>'GeneID'</li><li>'TuberS4_R1'</li></ol>\n"
      ],
      "text/latex": [
       "\\begin{enumerate*}\n",
       "\\item 'GeneID'\n",
       "\\item 'TuberS4\\_R1'\n",
       "\\end{enumerate*}\n"
      ],
      "text/markdown": [
       "1. 'GeneID'\n",
       "2. 'TuberS4_R1'\n",
       "\n",
       "\n"
      ],
      "text/plain": [
       "[1] \"GeneID\"     \"TuberS4_R1\""
      ]
     },
     "metadata": {},
     "output_type": "display_data"
    }
   ],
   "source": [
    "Tissue_names <- c(\"GeneID\", Tissue_names)\n",
    "Tissue_names[1:2]"
   ]
  },
  {
   "cell_type": "code",
   "execution_count": 24,
   "id": "6dce8c0b-4aa5-415f-899c-09ffcea464b6",
   "metadata": {},
   "outputs": [
    {
     "data": {
      "text/html": [
       "<table class=\"dataframe\">\n",
       "<caption>A data.frame: 2 × 48</caption>\n",
       "<thead>\n",
       "\t<tr><th></th><th scope=col>GeneID</th><th scope=col>TuberS4_R1</th><th scope=col>TuberS4_R2</th><th scope=col>TuberS4_R3</th><th scope=col>TuberS3_R1</th><th scope=col>TuberS3_R2</th><th scope=col>TuberS3_R3</th><th scope=col>TuberS1_R1</th><th scope=col>TuberS1_R2</th><th scope=col>TuberS1_R3</th><th scope=col>⋯</th><th scope=col>TuberS5_R1</th><th scope=col>TuberS5_R2</th><th scope=col>TuberS5_R3</th><th scope=col>TuberS2_R2</th><th scope=col>TuberS2_R3</th><th scope=col>OpenFlower_R2</th><th scope=col>StemControl_R1</th><th scope=col>ColdLeafControl_R1</th><th scope=col>ColdLeafControl_R3</th><th scope=col>RootControl_R1</th></tr>\n",
       "\t<tr><th></th><th scope=col>&lt;chr&gt;</th><th scope=col>&lt;dbl&gt;</th><th scope=col>&lt;dbl&gt;</th><th scope=col>&lt;dbl&gt;</th><th scope=col>&lt;dbl&gt;</th><th scope=col>&lt;dbl&gt;</th><th scope=col>&lt;dbl&gt;</th><th scope=col>&lt;dbl&gt;</th><th scope=col>&lt;dbl&gt;</th><th scope=col>&lt;dbl&gt;</th><th scope=col>⋯</th><th scope=col>&lt;dbl&gt;</th><th scope=col>&lt;dbl&gt;</th><th scope=col>&lt;dbl&gt;</th><th scope=col>&lt;dbl&gt;</th><th scope=col>&lt;dbl&gt;</th><th scope=col>&lt;dbl&gt;</th><th scope=col>&lt;dbl&gt;</th><th scope=col>&lt;dbl&gt;</th><th scope=col>&lt;dbl&gt;</th><th scope=col>&lt;dbl&gt;</th></tr>\n",
       "</thead>\n",
       "<tbody>\n",
       "\t<tr><th scope=row>1</th><td>Soltu.Atl_v3.09_0G012740.1</td><td>-1.150968</td><td> 0.04301417</td><td>-0.8950817</td><td>-1.236144</td><td>-1.23256</td><td>-1.225649</td><td>-1.277885</td><td> 0.5096579</td><td>-0.05929033</td><td>⋯</td><td>-1.037691</td><td>-1.095777</td><td> 0.5993646</td><td> 0.482347</td><td>-1.107616</td><td> 1.675304</td><td> 1.515202</td><td>-0.8991277</td><td>-0.889735</td><td> 5.318072</td></tr>\n",
       "\t<tr><th scope=row>2</th><td>Soltu.Atl_v3.10_2G013020.1</td><td>-1.881905</td><td>-1.86632902</td><td>-1.8337444</td><td>-1.900255</td><td>-1.89887</td><td>-1.896208</td><td>-1.916686</td><td>-1.6341077</td><td>-1.88348821</td><td>⋯</td><td>-1.860585</td><td>-1.871518</td><td>-1.8686471</td><td>-1.885423</td><td>-1.873746</td><td>-1.781673</td><td>-1.890906</td><td>-1.8345059</td><td>-1.832738</td><td>-1.406416</td></tr>\n",
       "</tbody>\n",
       "</table>\n"
      ],
      "text/latex": [
       "A data.frame: 2 × 48\n",
       "\\begin{tabular}{r|lllllllllllllllllllll}\n",
       "  & GeneID & TuberS4\\_R1 & TuberS4\\_R2 & TuberS4\\_R3 & TuberS3\\_R1 & TuberS3\\_R2 & TuberS3\\_R3 & TuberS1\\_R1 & TuberS1\\_R2 & TuberS1\\_R3 & ⋯ & TuberS5\\_R1 & TuberS5\\_R2 & TuberS5\\_R3 & TuberS2\\_R2 & TuberS2\\_R3 & OpenFlower\\_R2 & StemControl\\_R1 & ColdLeafControl\\_R1 & ColdLeafControl\\_R3 & RootControl\\_R1\\\\\n",
       "  & <chr> & <dbl> & <dbl> & <dbl> & <dbl> & <dbl> & <dbl> & <dbl> & <dbl> & <dbl> & ⋯ & <dbl> & <dbl> & <dbl> & <dbl> & <dbl> & <dbl> & <dbl> & <dbl> & <dbl> & <dbl>\\\\\n",
       "\\hline\n",
       "\t1 & Soltu.Atl\\_v3.09\\_0G012740.1 & -1.150968 &  0.04301417 & -0.8950817 & -1.236144 & -1.23256 & -1.225649 & -1.277885 &  0.5096579 & -0.05929033 & ⋯ & -1.037691 & -1.095777 &  0.5993646 &  0.482347 & -1.107616 &  1.675304 &  1.515202 & -0.8991277 & -0.889735 &  5.318072\\\\\n",
       "\t2 & Soltu.Atl\\_v3.10\\_2G013020.1 & -1.881905 & -1.86632902 & -1.8337444 & -1.900255 & -1.89887 & -1.896208 & -1.916686 & -1.6341077 & -1.88348821 & ⋯ & -1.860585 & -1.871518 & -1.8686471 & -1.885423 & -1.873746 & -1.781673 & -1.890906 & -1.8345059 & -1.832738 & -1.406416\\\\\n",
       "\\end{tabular}\n"
      ],
      "text/markdown": [
       "\n",
       "A data.frame: 2 × 48\n",
       "\n",
       "| <!--/--> | GeneID &lt;chr&gt; | TuberS4_R1 &lt;dbl&gt; | TuberS4_R2 &lt;dbl&gt; | TuberS4_R3 &lt;dbl&gt; | TuberS3_R1 &lt;dbl&gt; | TuberS3_R2 &lt;dbl&gt; | TuberS3_R3 &lt;dbl&gt; | TuberS1_R1 &lt;dbl&gt; | TuberS1_R2 &lt;dbl&gt; | TuberS1_R3 &lt;dbl&gt; | ⋯ ⋯ | TuberS5_R1 &lt;dbl&gt; | TuberS5_R2 &lt;dbl&gt; | TuberS5_R3 &lt;dbl&gt; | TuberS2_R2 &lt;dbl&gt; | TuberS2_R3 &lt;dbl&gt; | OpenFlower_R2 &lt;dbl&gt; | StemControl_R1 &lt;dbl&gt; | ColdLeafControl_R1 &lt;dbl&gt; | ColdLeafControl_R3 &lt;dbl&gt; | RootControl_R1 &lt;dbl&gt; |\n",
       "|---|---|---|---|---|---|---|---|---|---|---|---|---|---|---|---|---|---|---|---|---|---|\n",
       "| 1 | Soltu.Atl_v3.09_0G012740.1 | -1.150968 |  0.04301417 | -0.8950817 | -1.236144 | -1.23256 | -1.225649 | -1.277885 |  0.5096579 | -0.05929033 | ⋯ | -1.037691 | -1.095777 |  0.5993646 |  0.482347 | -1.107616 |  1.675304 |  1.515202 | -0.8991277 | -0.889735 |  5.318072 |\n",
       "| 2 | Soltu.Atl_v3.10_2G013020.1 | -1.881905 | -1.86632902 | -1.8337444 | -1.900255 | -1.89887 | -1.896208 | -1.916686 | -1.6341077 | -1.88348821 | ⋯ | -1.860585 | -1.871518 | -1.8686471 | -1.885423 | -1.873746 | -1.781673 | -1.890906 | -1.8345059 | -1.832738 | -1.406416 |\n",
       "\n"
      ],
      "text/plain": [
       "  GeneID                     TuberS4_R1 TuberS4_R2  TuberS4_R3 TuberS3_R1\n",
       "1 Soltu.Atl_v3.09_0G012740.1 -1.150968   0.04301417 -0.8950817 -1.236144 \n",
       "2 Soltu.Atl_v3.10_2G013020.1 -1.881905  -1.86632902 -1.8337444 -1.900255 \n",
       "  TuberS3_R2 TuberS3_R3 TuberS1_R1 TuberS1_R2 TuberS1_R3  ⋯ TuberS5_R1\n",
       "1 -1.23256   -1.225649  -1.277885   0.5096579 -0.05929033 ⋯ -1.037691 \n",
       "2 -1.89887   -1.896208  -1.916686  -1.6341077 -1.88348821 ⋯ -1.860585 \n",
       "  TuberS5_R2 TuberS5_R3 TuberS2_R2 TuberS2_R3 OpenFlower_R2 StemControl_R1\n",
       "1 -1.095777   0.5993646  0.482347  -1.107616   1.675304      1.515202     \n",
       "2 -1.871518  -1.8686471 -1.885423  -1.873746  -1.781673     -1.890906     \n",
       "  ColdLeafControl_R1 ColdLeafControl_R3 RootControl_R1\n",
       "1 -0.8991277         -0.889735           5.318072     \n",
       "2 -1.8345059         -1.832738          -1.406416     "
      ]
     },
     "metadata": {},
     "output_type": "display_data"
    }
   ],
   "source": [
    "colnames(Tissue) <- Tissue_names\n",
    "Tissue[1:2,]"
   ]
  },
  {
   "cell_type": "code",
   "execution_count": 25,
   "id": "23ca7191-6ebb-417d-855a-8c464e766b5b",
   "metadata": {},
   "outputs": [
    {
     "data": {
      "text/html": [
       "<table class=\"dataframe\">\n",
       "<caption>A tibble: 2 × 4</caption>\n",
       "<thead>\n",
       "\t<tr><th scope=col>GeneID</th><th scope=col>Condition</th><th scope=col>Replicate</th><th scope=col>rlog</th></tr>\n",
       "\t<tr><th scope=col>&lt;chr&gt;</th><th scope=col>&lt;chr&gt;</th><th scope=col>&lt;chr&gt;</th><th scope=col>&lt;dbl&gt;</th></tr>\n",
       "</thead>\n",
       "<tbody>\n",
       "\t<tr><td>Soltu.Atl_v3.09_0G012740.1</td><td>TuberS4</td><td>R1</td><td>-1.15096827</td></tr>\n",
       "\t<tr><td>Soltu.Atl_v3.09_0G012740.1</td><td>TuberS4</td><td>R2</td><td> 0.04301417</td></tr>\n",
       "</tbody>\n",
       "</table>\n"
      ],
      "text/latex": [
       "A tibble: 2 × 4\n",
       "\\begin{tabular}{llll}\n",
       " GeneID & Condition & Replicate & rlog\\\\\n",
       " <chr> & <chr> & <chr> & <dbl>\\\\\n",
       "\\hline\n",
       "\t Soltu.Atl\\_v3.09\\_0G012740.1 & TuberS4 & R1 & -1.15096827\\\\\n",
       "\t Soltu.Atl\\_v3.09\\_0G012740.1 & TuberS4 & R2 &  0.04301417\\\\\n",
       "\\end{tabular}\n"
      ],
      "text/markdown": [
       "\n",
       "A tibble: 2 × 4\n",
       "\n",
       "| GeneID &lt;chr&gt; | Condition &lt;chr&gt; | Replicate &lt;chr&gt; | rlog &lt;dbl&gt; |\n",
       "|---|---|---|---|\n",
       "| Soltu.Atl_v3.09_0G012740.1 | TuberS4 | R1 | -1.15096827 |\n",
       "| Soltu.Atl_v3.09_0G012740.1 | TuberS4 | R2 |  0.04301417 |\n",
       "\n"
      ],
      "text/plain": [
       "  GeneID                     Condition Replicate rlog       \n",
       "1 Soltu.Atl_v3.09_0G012740.1 TuberS4   R1        -1.15096827\n",
       "2 Soltu.Atl_v3.09_0G012740.1 TuberS4   R2         0.04301417"
      ]
     },
     "metadata": {},
     "output_type": "display_data"
    }
   ],
   "source": [
    "\n",
    "Tissue_long<- Tissue %>%  pivot_longer(!GeneID, names_to = c('Condition', 'Replicate'),\n",
    "                                          names_sep = '_',\n",
    "                                      values_to = 'rlog')\n",
    "Tissue_long[1:2,]"
   ]
  },
  {
   "cell_type": "markdown",
   "id": "201b54b8-b1eb-415d-9325-21ac2a4e0ad5",
   "metadata": {},
   "source": [
    "### Calculate average expression"
   ]
  },
  {
   "cell_type": "code",
   "execution_count": 26,
   "id": "2b8eba82-41c2-481a-9bae-84c0d5cc4b1f",
   "metadata": {},
   "outputs": [
    {
     "name": "stderr",
     "output_type": "stream",
     "text": [
      "\u001b[1m\u001b[22m`summarise()` has grouped output by 'GeneID'. You can override\n",
      "using the `.groups` argument.\n"
     ]
    }
   ],
   "source": [
    "Tissue_long_av<- Tissue_long %>% group_by(GeneID, Condition) %>% summarize (mean_expression = mean(rlog), std = sd(rlog))"
   ]
  },
  {
   "cell_type": "code",
   "execution_count": 27,
   "id": "c5b67288-6a97-4ff9-ad8f-ad5b08f807ea",
   "metadata": {},
   "outputs": [
    {
     "data": {
      "text/html": [
       "<table class=\"dataframe\">\n",
       "<caption>A grouped_df: 2 × 4</caption>\n",
       "<thead>\n",
       "\t<tr><th scope=col>GeneID</th><th scope=col>Condition</th><th scope=col>mean_expression</th><th scope=col>std</th></tr>\n",
       "\t<tr><th scope=col>&lt;chr&gt;</th><th scope=col>&lt;chr&gt;</th><th scope=col>&lt;dbl&gt;</th><th scope=col>&lt;dbl&gt;</th></tr>\n",
       "</thead>\n",
       "<tbody>\n",
       "\t<tr><td>Soltu.Atl_v3.01_0G000010.1</td><td>ClosedFlower   </td><td>1.52559678</td><td>0.07353294</td></tr>\n",
       "\t<tr><td>Soltu.Atl_v3.01_0G000010.1</td><td>ColdLeafControl</td><td>0.07708519</td><td>0.47580094</td></tr>\n",
       "</tbody>\n",
       "</table>\n"
      ],
      "text/latex": [
       "A grouped\\_df: 2 × 4\n",
       "\\begin{tabular}{llll}\n",
       " GeneID & Condition & mean\\_expression & std\\\\\n",
       " <chr> & <chr> & <dbl> & <dbl>\\\\\n",
       "\\hline\n",
       "\t Soltu.Atl\\_v3.01\\_0G000010.1 & ClosedFlower    & 1.52559678 & 0.07353294\\\\\n",
       "\t Soltu.Atl\\_v3.01\\_0G000010.1 & ColdLeafControl & 0.07708519 & 0.47580094\\\\\n",
       "\\end{tabular}\n"
      ],
      "text/markdown": [
       "\n",
       "A grouped_df: 2 × 4\n",
       "\n",
       "| GeneID &lt;chr&gt; | Condition &lt;chr&gt; | mean_expression &lt;dbl&gt; | std &lt;dbl&gt; |\n",
       "|---|---|---|---|\n",
       "| Soltu.Atl_v3.01_0G000010.1 | ClosedFlower    | 1.52559678 | 0.07353294 |\n",
       "| Soltu.Atl_v3.01_0G000010.1 | ColdLeafControl | 0.07708519 | 0.47580094 |\n",
       "\n"
      ],
      "text/plain": [
       "  GeneID                     Condition       mean_expression std       \n",
       "1 Soltu.Atl_v3.01_0G000010.1 ClosedFlower    1.52559678      0.07353294\n",
       "2 Soltu.Atl_v3.01_0G000010.1 ColdLeafControl 0.07708519      0.47580094"
      ]
     },
     "metadata": {},
     "output_type": "display_data"
    }
   ],
   "source": [
    "Tissue_long_av[1:2,]"
   ]
  },
  {
   "cell_type": "markdown",
   "id": "a5e0271b-668b-458b-8214-b5d160082d41",
   "metadata": {},
   "source": [
    "### Get only 'expressed' genes, eg max mean expression > 0"
   ]
  },
  {
   "cell_type": "code",
   "execution_count": 28,
   "id": "58363cff-4b98-41f8-9568-091ddfcafdb0",
   "metadata": {},
   "outputs": [
    {
     "data": {
      "text/html": [
       "2094832"
      ],
      "text/latex": [
       "2094832"
      ],
      "text/markdown": [
       "2094832"
      ],
      "text/plain": [
       "[1] 2094832"
      ]
     },
     "metadata": {},
     "output_type": "display_data"
    },
    {
     "data": {
      "text/html": [
       "130927"
      ],
      "text/latex": [
       "130927"
      ],
      "text/markdown": [
       "130927"
      ],
      "text/plain": [
       "[1] 130927"
      ]
     },
     "metadata": {},
     "output_type": "display_data"
    },
    {
     "data": {
      "text/html": [
       "1666224"
      ],
      "text/latex": [
       "1666224"
      ],
      "text/markdown": [
       "1666224"
      ],
      "text/plain": [
       "[1] 1666224"
      ]
     },
     "metadata": {},
     "output_type": "display_data"
    },
    {
     "data": {
      "text/html": [
       "104139"
      ],
      "text/latex": [
       "104139"
      ],
      "text/markdown": [
       "104139"
      ],
      "text/plain": [
       "[1] 104139"
      ]
     },
     "metadata": {},
     "output_type": "display_data"
    }
   ],
   "source": [
    "nrow(Tissue_long_av)\n",
    "Tissue_long_av %>% select(GeneID) %>% unique() %>% nrow()\n",
    "Tissue_long_av_expr <- Tissue_long_av %>% group_by(GeneID) %>% mutate (MaxExpression = max(mean_expression)) %>% \n",
    "                ungroup() %>% filter(MaxExpression > 0)\n",
    "nrow(Tissue_long_av_expr)\n",
    "Tissue_long_av_expr %>% select(GeneID) %>% unique()%>% nrow()"
   ]
  },
  {
   "cell_type": "code",
   "execution_count": 29,
   "id": "6f7ab628-4995-4ba0-911d-f1faa6a53e97",
   "metadata": {},
   "outputs": [
    {
     "data": {
      "text/html": [
       "<table class=\"dataframe\">\n",
       "<caption>A tibble: 2 × 5</caption>\n",
       "<thead>\n",
       "\t<tr><th scope=col>GeneID</th><th scope=col>Condition</th><th scope=col>mean_expression</th><th scope=col>std</th><th scope=col>MaxExpression</th></tr>\n",
       "\t<tr><th scope=col>&lt;chr&gt;</th><th scope=col>&lt;chr&gt;</th><th scope=col>&lt;dbl&gt;</th><th scope=col>&lt;dbl&gt;</th><th scope=col>&lt;dbl&gt;</th></tr>\n",
       "</thead>\n",
       "<tbody>\n",
       "\t<tr><td>Soltu.Atl_v3.01_0G000010.1</td><td>ClosedFlower   </td><td>1.52559678</td><td>0.07353294</td><td>1.877467</td></tr>\n",
       "\t<tr><td>Soltu.Atl_v3.01_0G000010.1</td><td>ColdLeafControl</td><td>0.07708519</td><td>0.47580094</td><td>1.877467</td></tr>\n",
       "</tbody>\n",
       "</table>\n"
      ],
      "text/latex": [
       "A tibble: 2 × 5\n",
       "\\begin{tabular}{lllll}\n",
       " GeneID & Condition & mean\\_expression & std & MaxExpression\\\\\n",
       " <chr> & <chr> & <dbl> & <dbl> & <dbl>\\\\\n",
       "\\hline\n",
       "\t Soltu.Atl\\_v3.01\\_0G000010.1 & ClosedFlower    & 1.52559678 & 0.07353294 & 1.877467\\\\\n",
       "\t Soltu.Atl\\_v3.01\\_0G000010.1 & ColdLeafControl & 0.07708519 & 0.47580094 & 1.877467\\\\\n",
       "\\end{tabular}\n"
      ],
      "text/markdown": [
       "\n",
       "A tibble: 2 × 5\n",
       "\n",
       "| GeneID &lt;chr&gt; | Condition &lt;chr&gt; | mean_expression &lt;dbl&gt; | std &lt;dbl&gt; | MaxExpression &lt;dbl&gt; |\n",
       "|---|---|---|---|---|\n",
       "| Soltu.Atl_v3.01_0G000010.1 | ClosedFlower    | 1.52559678 | 0.07353294 | 1.877467 |\n",
       "| Soltu.Atl_v3.01_0G000010.1 | ColdLeafControl | 0.07708519 | 0.47580094 | 1.877467 |\n",
       "\n"
      ],
      "text/plain": [
       "  GeneID                     Condition       mean_expression std       \n",
       "1 Soltu.Atl_v3.01_0G000010.1 ClosedFlower    1.52559678      0.07353294\n",
       "2 Soltu.Atl_v3.01_0G000010.1 ColdLeafControl 0.07708519      0.47580094\n",
       "  MaxExpression\n",
       "1 1.877467     \n",
       "2 1.877467     "
      ]
     },
     "metadata": {},
     "output_type": "display_data"
    }
   ],
   "source": [
    "Tissue_long_av_expr[1:2,]"
   ]
  },
  {
   "cell_type": "code",
   "execution_count": 31,
   "id": "ba862cda-fb7f-41a0-bb4a-5e6b49411457",
   "metadata": {},
   "outputs": [],
   "source": [
    "export(Tissue_long_av_expr, file = './Results/Tissue_long_av_expressed.csv')"
   ]
  },
  {
   "cell_type": "code",
   "execution_count": null,
   "id": "6b2edfea-de0a-4539-8a48-fd95f1b5e307",
   "metadata": {},
   "outputs": [],
   "source": []
  },
  {
   "cell_type": "code",
   "execution_count": null,
   "id": "c18cb66c-5926-4fd1-a0c8-0a333c5d566d",
   "metadata": {},
   "outputs": [],
   "source": []
  },
  {
   "cell_type": "code",
   "execution_count": null,
   "id": "6cad9a25-d8e5-416f-9aba-11e0b50578ca",
   "metadata": {},
   "outputs": [],
   "source": []
  }
 ],
 "metadata": {
  "kernelspec": {
   "display_name": "R4b",
   "language": "R",
   "name": "r4b"
  },
  "language_info": {
   "codemirror_mode": "r",
   "file_extension": ".r",
   "mimetype": "text/x-r-source",
   "name": "R",
   "pygments_lexer": "r",
   "version": "4.3.1"
  }
 },
 "nbformat": 4,
 "nbformat_minor": 5
}
